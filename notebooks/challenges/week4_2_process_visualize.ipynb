{
 "cells": [
  {
   "cell_type": "markdown",
   "metadata": {},
   "source": [
    "## Connect to your SAP HANA database"
   ]
  },
  {
   "cell_type": "code",
   "execution_count": null,
   "metadata": {},
   "outputs": [],
   "source": [
    "import os; hana_ml\n",
    "print(hana_ml.__version__)"
   ]
  },
  {
   "cell_type": "code",
   "execution_count": null,
   "metadata": {},
   "outputs": [],
   "source": [
    "os.environ[\"HDB_USE_IDENT\"]=os.getenv(\"WORKSPACE_ID\")\n",
    "print(os.getenv(\"HDB_USE_IDENT\"))"
   ]
  },
  {
   "cell_type": "code",
   "execution_count": null,
   "metadata": {},
   "outputs": [],
   "source": [
    "from hana_ml import dataframe as hdf"
   ]
  },
  {
   "cell_type": "code",
   "execution_count": null,
   "metadata": {},
   "outputs": [],
   "source": [
    "myconn=hdf.ConnectionContext(userkey='myDevChallenger')\n",
    "print(\"SAP HANA DB version: \", myconn.hana_version())"
   ]
  },
  {
   "cell_type": "markdown",
   "metadata": {},
   "source": [
    "Two open-source Python modules `geopandas` and `contextily` allow you to visualize results on a map in Jupyter notebook"
   ]
  },
  {
   "cell_type": "code",
   "execution_count": null,
   "metadata": {},
   "outputs": [],
   "source": [
    "import geopandas\n",
    "import contextly as ctx"
   ]
  },
  {
   "cell_type": "markdown",
   "metadata": {},
   "source": [
    "## Choose the SAP HANA graph workspace `AIRROUTES_DFH`"
   ]
  },
  {
   "cell_type": "code",
   "execution_count": null,
   "metadata": {},
   "outputs": [],
   "source": [
    "import hana_ml.graph"
   ]
  },
  {
   "cell_type": "code",
   "execution_count": null,
   "metadata": {},
   "outputs": [],
   "source": [
    "hana_ml.graph.discover_graph_workspaces(myconn)"
   ]
  },
  {
   "cell_type": "markdown",
   "metadata": {},
   "source": [
    "Create the [HANA Graph object](https://help.sap.com/doc/cd94b08fe2e041c2ba778374572ddba9/2024_2_QRC/en-US/hana_ml.graph.html#hana_ml.graph.Graph) in Python from an exisiting graph space in SAP HANA"
   ]
  },
  {
   "cell_type": "code",
   "execution_count": null,
   "metadata": {},
   "outputs": [],
   "source": [
    "hgws_airroutes=(\n",
    "    hana_ml.graph.graph(myconn, workspace_name='AIRROUTES_DFH')\n",
    ")"
   ]
  },
  {
   "cell_type": "markdown",
   "metadata": {},
   "source": [
    "## Create a HANA DataFrame with spatial \"strings\" for all connections "
   ]
  },
  {
   "cell_type": "code",
   "execution_count": null,
   "metadata": {},
   "outputs": [],
   "source": [
    "hdf_ports=myconn.table(\"PORTS\")\n",
    "hdf_routes=myconn.table(\"ROUTES\")"
   ]
  },
  {
   "cell_type": "markdown",
   "metadata": {},
   "source": [
    "Method [`ST_MakeLine()`](https://help.sap.com/docs/hana-cloud-database/sap-hana-cloud-sap-hana-database-spatial-reference/st-makeline-method?version=2024_2_QRC&locale=en-US) creates a linestring from two given points."
   ]
  },
  {
   "cell_type": "code",
   "execution_count": null,
   "metadata": {},
   "outputs": [],
   "source": [
    "hdf_routes_strings = (hdf_routes.alias('E1')\n",
    "    .join(hdf_ports.alias('F'),'E1.\"FROM\"=F.\"ID\"', select=['E1.*',('NEW ST_POINT(\"LON\", \"LAT\", 4326)','POINT_FROM')])\n",
    "    .alias('E2')\n",
    "    .join(hdf_ports.alias('T'),'E2.\"TO\"=T.\"ID\"', \n",
    "                            select=[('E2.ID','ID'), 'FROM', 'TO', 'DIST',\n",
    "                                    ('ST_MakeLine(\"POINT_FROM\", OLD ST_POINT(\"LON\", \"LAT\", 4326))', 'LINE')]\n",
    "))\n",
    "\n",
    "hdf_routes_strings.head(3).collect()"
   ]
  },
  {
   "cell_type": "markdown",
   "metadata": {},
   "source": [
    "## Shortest path..."
   ]
  },
  {
   "cell_type": "markdown",
   "metadata": {},
   "source": [
    "...from **WRO** (Wrocław, Poland) to **GKA** (Goroka, Papua New Guinea) with the least number of hops using the built-in SAP HANA graph algorithms."
   ]
  },
  {
   "cell_type": "code",
   "execution_count": null,
   "metadata": {},
   "outputs": [],
   "source": [
    "airport_code_from='WRO'\n",
    "airport_code_to='GKA'"
   ]
  },
  {
   "cell_type": "markdown",
   "metadata": {},
   "source": [
    "Find the vertex ID for the airport [IATA code](https://en.wikipedia.org/wiki/IATA_airport_code):"
   ]
  },
  {
   "cell_type": "code",
   "execution_count": null,
   "metadata": {},
   "outputs": [],
   "source": [
    "airport_id_from=hgws_airroutes.vertices_hdf.filter(f\"CODE='{airport_code_from}'\").select('ID').collect().values[0][0]\n",
    "print(f\"Vertex ID for the airport {airport_code_from}: {airport_id_from}\")"
   ]
  },
  {
   "cell_type": "code",
   "execution_count": null,
   "metadata": {},
   "outputs": [],
   "source": [
    "airport_id_to=hgws_airroutes.vertices_hdf.filter(f\"CODE='{airport_code_to}'\").select('ID').values[0][0]\n",
    "print(f\"Vertex ID for the airport {airport_code_to}: {airport_id_to}\")"
   ]
  },
  {
   "cell_type": "markdown",
   "metadata": {},
   "source": [
    "The package [hana_ml.graph.algorithms](https://help.sap.com/doc/cd94b08fe2e041c2ba778374572ddba9/2024_2_QRC/en-US/hana_ml.graph.algorithms.html) contains various algorithms you can use to explore and work on a graph."
   ]
  },
  {
   "cell_type": "code",
   "execution_count": null,
   "metadata": {},
   "outputs": [],
   "source": [
    "import hana_ml.graph.algorithms as hga\n"
   ]
  },
  {
   "cell_type": "markdown",
   "metadata": {},
   "source": [
    "Calculate `path_airport1_to_airport2_hops` ShortestPath object using the [`execute()`](https://help.sap.com/doc/cd94b08fe2e041c2ba778374572ddba9/2024_2_QRC/en-US/hana_ml.graph.algorithms.html#hana_ml.graph.algorithms.ShortestPath.execute) method..."
   ]
  },
  {
   "cell_type": "code",
   "execution_count": null,
   "metadata": {},
   "outputs": [],
   "source": [
    "\n",
    "path_airport1_to_airport2_hops = hga.ShortestPath(graph=hgws_airoutes).execute(\n",
    "    source=str(airport_id_from),\n",
    "    target=airport_id_to\n",
    ")"
   ]
  },
  {
   "cell_type": "markdown",
   "metadata": {},
   "source": [
    "...and see the results: \n",
    "* [vertices](https://help.sap.com/doc/cd94b08fe2e041c2ba778374572ddba9/2024_2_QRC/en-US/hana_ml.graph.algorithms.html#hana_ml.graph.algorithms.ShortestPath.vertices)\n",
    "* [edges](https://help.sap.com/doc/cd94b08fe2e041c2ba778374572ddba9/2024_2_QRC/en-US/hana_ml.graph.algorithms.html#hana_ml.graph.algorithms.ShortestPath.edges)\n",
    "* [weight](https://help.sap.com/doc/cd94b08fe2e041c2ba778374572ddba9/2024_2_QRC/en-US/hana_ml.graph.algorithms.html#hana_ml.graph.algorithms.ShortestPath.weight)"
   ]
  },
  {
   "cell_type": "code",
   "execution_count": null,
   "metadata": {},
   "outputs": [],
   "source": [
    "\n",
    "print(\"Vertices (airports to visit) in the order:\\n\", path_airport1_to_airport2_hops.vertices.set_index('VERTEX_ORDER'))\n",
    "print(\"\\nEdges (connections to use) in the order:\\n\", path_airport1_to_airport2_hops.edges.set_index('EDGE_ORDER'))\n",
    "print(\"\\nWeight (number of hops): \", int(path_airport1_to_airport2_hops.weights))\n"
   ]
  },
  {
   "cell_type": "markdown",
   "metadata": {},
   "source": [
    "Preview the HANA DataFrame filter built from the vertices results:"
   ]
  },
  {
   "cell_type": "code",
   "execution_count": null,
   "metadata": {},
   "outputs": [],
   "source": [
    "hdf_ports.filter('ID IN ('+path_airport1_to_airport2_hops.vertices.ID.astype(str).str.cat(sep=', ')+')').select_statement"
   ]
  },
  {
   "cell_type": "markdown",
   "metadata": {},
   "source": [
    "...and use it to create a GeoPandas dataframe `dfg_shortest_path_hops` to be used for visualization of airports on a map"
   ]
  },
  {
   "cell_type": "code",
   "execution_count": null,
   "metadata": {},
   "outputs": [],
   "source": [
    "dfg_shortest_path_hops = geopandas.GeoDataFrame(\n",
    "    hdf_ports\n",
    "    .filter('ID IN ('+path_airport1_to_airport2_hops.vertices.ID.astype(str).str.cat(sep=', ')+')')\n",
    "    .select(\"ID\", \"CODE\", \"CITY\", (\"NEW ST_POINT(LON, LAT, 4326)\", \"POINT_LON_LAT_GEO\")).collect(), \n",
    "    geometry='POINT_LON_LAT_GEO', crs=\"EPSG:4326\"\n",
    ")"
   ]
  },
  {
   "cell_type": "code",
   "execution_count": null,
   "metadata": {},
   "outputs": [],
   "source": [
    "dfg_shortest_path_hops"
   ]
  },
  {
   "cell_type": "markdown",
   "metadata": {},
   "source": [
    "...and use it to create a GeoPandas dataframe `dfg_shortest_path_string` to be used for visualization of a route on a map"
   ]
  },
  {
   "cell_type": "code",
   "execution_count": null,
   "metadata": {},
   "outputs": [],
   "source": [
    "dfg_shortest_path_string = geopandas.GeoDataFrame(\n",
    "myconn.sql(\n",
    "    hdf_routes_strings\n",
    "        .filter('ID IN ('+path_airport1_to_airport2_hops.edges.ID.astype(str).str.cat(sep=',')+')')\n",
    "        .agg([('ST_CollectAggr', 'LINE', 'LINE_PATH')])\n",
    "        .select_statement).collect(), \n",
    "    geometry='LINE_PATH', crs=\"EPSG:4326\"\n",
    ")"
   ]
  },
  {
   "cell_type": "markdown",
   "metadata": {},
   "source": [
    "Build and display the `fig_shortest_path` image.\n",
    "\n",
    "Note the conversion of geospatial values from the Round-Earth 4326 to the [spatial reference `3857`](https://epsg.io/3857) used at the 2D maps. `3857` is sometimes refered to as [`900913`](https://epsg.io/900913), because of `GOOGLE` (used in Google Maps). Got it? 🤓\n",
    "\n",
    "You use `OpenStreetMap.Mapnik` map provider, as it does not require an API key. For more information check: [https://contextily.readthedocs.io/en/latest/providers_deepdive.html#What-is-this-%22provider%22-object-?](https://contextily.readthedocs.io/en/latest/providers_deepdive.html#What-is-this-%22provider%22-object-?)\n",
    "\n",
    "👉 Note that the first render might take quite a few seconds."
   ]
  },
  {
   "cell_type": "code",
   "execution_count": null,
   "metadata": {},
   "outputs": [],
   "source": [
    "fig_shortest_path=dfg_shortest_path_hops.to_crs(epsg=3857).plot(\n",
    "    figsize=(20, 15), zorder=3,\n",
    "    alpha=1, color='w', edgecolor='r', markersize=300\n",
    ")\n",
    "fig_shortest_path.set_axis_off()\n",
    "\n",
    "dfg_shortest_path_hops.to_crs(epsg=3857).apply(\n",
    "    lambda port: fig_shortest_path.annotate(port.CITY, \n",
    "                                            xy=port.POINT_LON_LAT_GEO.coords[0], \n",
    "                                            xytext=(-10, 15), \n",
    "                                            textcoords=\"offset points\",\n",
    "                                            fontsize=\"x-large\",\n",
    "                                            color=\"b\"\n",
    "                                           ), axis=1\n",
    ")\n",
    "\n",
    "dfg_shortest_path_string.to_crs(epsg=3857).plot(ax=fig_shortest_path, alpha=1, edgecolor='r', zorder=1)\n",
    "\n",
    "ctx.add_basemap(ax=fig_shortest_path, source=ctx.providers.OpenStreetMap.Mapnik)"
   ]
  },
  {
   "cell_type": "markdown",
   "metadata": {},
   "source": [
    "## Shortest path (weighted)"
   ]
  },
  {
   "cell_type": "markdown",
   "metadata": {},
   "source": [
    "...from **WRO** (Wrocław, Poland) to **GKA** (Goroka, Papua New Guinea) with the shortest distance.\n",
    "\n",
    "Note the use of an additional `weight` attribute in the call specifying the use of the distance `DIST` attribute."
   ]
  },
  {
   "cell_type": "code",
   "execution_count": null,
   "metadata": {},
   "outputs": [],
   "source": [
    "import hana_ml.graph.algorithms as hga\n",
    "\n",
    "path_airport1_to_airport2_dist = hga.ShortestPath(graph=hgws_airroutes).exec(\n",
    "    source=airport_id_from,\n",
    "    target=airport_id_to,\n",
    "    weight='DIST')"
   ]
  },
  {
   "cell_type": "code",
   "execution_count": null,
   "metadata": {},
   "outputs": [],
   "source": [
    "print(\"Vertices (airports to visit) in the order:\\n\", path_airport1_to_airport2_dist.vertices.set_index('VERTEX_ORDER'))\n",
    "print(\"\\nEdges (connections to use) in the order:\\n\", path_airport1_to_airport2_dist.edges.set_index('EDGE_ORDER'))\n",
    "print(\"\\nWeight (in distance): \", path_airport1_to_airport2_dist.weight)\n"
   ]
  },
  {
   "cell_type": "markdown",
   "metadata": {},
   "source": [
    "Create a GeoPandas dataframe `dfg_shortest_path_dist_hops` to be used for visualization of airports on a map"
   ]
  },
  {
   "cell_type": "code",
   "execution_count": null,
   "metadata": {},
   "outputs": [],
   "source": [
    "dfg_shortest_path_dist_hops = geopanda.GeoDataFrame(\n",
    "    hdf_ports\n",
    "    .filter('ID IN ('+path_airport1_to_airport2_dist.vertices.ID.astype(str).str.cat(sep=',')+')')\n",
    "    .select(\"ID\", \"CODE\", \"CITY\", (\"NEW ST_POINT(LON, LAT, 4326)\", \"POINT_LON_LAT_GEO\")).collect(), \n",
    "    geometry='POINT_LON_LAT_GEO', crs=\"EPSG:4326\"\n",
    ")"
   ]
  },
  {
   "cell_type": "markdown",
   "metadata": {},
   "source": [
    "Create a GeoPandas dataframe `dfg_shortest_path_dist_string` to be used for visualization of a route on a map"
   ]
  },
  {
   "cell_type": "code",
   "execution_count": null,
   "metadata": {},
   "outputs": [],
   "source": [
    "\n",
    "dfg_shortest_path_dist_string = geopandas.GeoDataFrame(\n",
    "myconn.sql(hdf_routes_strings\n",
    "         .filter('ID IN ('+path_airport1_to_airport2_dist.edges.ID.astype(str).str.cat(sep=',')+')')\n",
    "         .agg([('ST_UnionAggr', 'LINE', 'LINE_PATH')])\n",
    "         .select_statement).collect(), geometry='LINE_PATH', crs=\"EPSG:4326\")"
   ]
  },
  {
   "cell_type": "markdown",
   "metadata": {},
   "source": [
    "Build and display the `fig_shortest_path_dist` image.\n",
    "\n",
    "You use `OpenStreetMap.Mapnik` map provider, as it does not require an API key. For more information check: [https://contextily.readthedocs.io/en/latest/providers_deepdive.html#What-is-this-%22provider%22-object-?](https://contextily.readthedocs.io/en/latest/providers_deepdive.html#What-is-this-%22provider%22-object-?)\n",
    "\n",
    "👉 Note that the first render might take quite a few seconds."
   ]
  },
  {
   "cell_type": "code",
   "execution_count": null,
   "metadata": {},
   "outputs": [],
   "source": [
    "fig_shortest_path_dist=dfg_shortest_path_dist_hops.to_crs(epsg=3857).plot(\n",
    "    figsize=(20, 15), zorder=3,\n",
    "    alpha=1, color='w', edgecolor='r', markersize=300\n",
    ")\n",
    "fig_shortest_path_dist.set_axis_off()\n",
    "\n",
    "dfg_shortest_path_dist_hops.to_crs(epsg=3857).apply(\n",
    "    lambda port: fig_shortest_path_dist.annotate(port.CITY, \n",
    "                                            xy=port.POINT_LON_LAT_GEO.coords[0], \n",
    "                                            xytext=(-10, 15), \n",
    "                                            textcoords=\"offset points\",\n",
    "                                            fontsize=\"x-large\",\n",
    "                                            color=\"b\"\n",
    "                                           ), axis=1\n",
    ")\n",
    "\n",
    "dfg_shortest_path_dist_string.to_crs(epsg=3857).plot(ax=fig_shortest_path_dist, alpha=1, edgecolor='r', zorder=1)\n",
    "\n",
    "ctx.add_basemap(ax=fig_shortest_path_dist, source=ctx.providers.OpenStreetMap.Mapnik)"
   ]
  },
  {
   "cell_type": "markdown",
   "metadata": {},
   "source": [
    "### It's time for the submission!\n",
    "\n",
    "Experiement with some other airport codes in variables `airport_code_from` and `airport_code_to` above to come up with your own example of the shortest path results and paste the screenshot of either shortest with the number of hops or shortest distance in the submission thread: https://community.sap.com/t5/application-development-discussions/submissions-for-quot-sap-hana-cloud-multi-model-quot-developer-challenge/m-p/13743532#M2028765"
   ]
  }
 ],
 "metadata": {
  "kernelspec": {
   "display_name": ".venv",
   "language": "python",
   "name": "python3"
  },
  "language_info": {
   "codemirror_mode": {
    "name": "ipython",
    "version": 3
   },
   "file_extension": ".py",
   "mimetype": "text/x-python",
   "name": "python",
   "nbconvert_exporter": "python",
   "pygments_lexer": "ipython3",
   "version": "3.11.2"
  }
 },
 "nbformat": 4,
 "nbformat_minor": 2
}
