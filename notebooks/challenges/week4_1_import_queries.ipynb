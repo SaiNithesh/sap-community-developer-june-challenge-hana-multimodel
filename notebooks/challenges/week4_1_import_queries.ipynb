{
 "cells": [
  {
   "cell_type": "markdown",
   "metadata": {},
   "source": [
    "## Import data from the source files"
   ]
  },
  {
   "cell_type": "markdown",
   "metadata": {},
   "source": [
    "--> Data from https://github.com/krlawrence/graph/raw/master/sample-data/ is available under the Apache 2.0 license. Courtesy of Kelvin Lawrence."
   ]
  },
  {
   "cell_type": "code",
   "execution_count": null,
   "metadata": {},
   "outputs": [],
   "source": [
    "import pandas as pd\n",
    "\n",
    "df_nodes=pd.read_csv('https://github.com/krlawrence/graph/raw/master/sample-data/air-routes-latest-nodes.csv')\n",
    "df_edges=pd.read_csv('https://github.com/krlawrence/graph/raw/master/sample-data/air-routes-latest-edges.csv')"
   ]
  },
  {
   "cell_type": "markdown",
   "metadata": {},
   "source": [
    "Preview a Pandas DataFrame with imported data"
   ]
  },
  {
   "cell_type": "code",
   "execution_count": null,
   "metadata": {},
   "outputs": [],
   "source": [
    "df_nodes.head(3)"
   ]
  },
  {
   "cell_type": "markdown",
   "metadata": {},
   "source": [
    "### Create a Pandas DataFrame (`df_ports`) with airports only"
   ]
  },
  {
   "cell_type": "code",
   "execution_count": null,
   "metadata": {},
   "outputs": [],
   "source": [
    "df_nodes.dtypes"
   ]
  },
  {
   "cell_type": "markdown",
   "metadata": {},
   "source": [
    "The DataFrame contains different types of data that are using different `~label` values:"
   ]
  },
  {
   "cell_type": "code",
   "execution_count": null,
   "metadata": {},
   "outputs": [],
   "source": [
    "df_nodes.groupby('~label').size()"
   ]
  },
  {
   "cell_type": "markdown",
   "metadata": {},
   "source": [
    "1. Keep only records with `airport` labels.\n",
    "2. Remove unnecessary columns."
   ]
  },
  {
   "cell_type": "code",
   "execution_count": null,
   "metadata": {},
   "outputs": [],
   "source": [
    "df_ports=(\n",
    "           df_nodes[df_nodes['~label'].isin(['airport'])]\n",
    "           .drop(['~label','type:string','author:string','date:string'], axis=1)\n",
    "           .convert_dtypes()\n",
    "          )"
   ]
  },
  {
   "cell_type": "code",
   "execution_count": null,
   "metadata": {},
   "outputs": [],
   "source": [
    "print(df_ports.dtypes)"
   ]
  },
  {
   "cell_type": "markdown",
   "metadata": {},
   "source": [
    "Clean up the column names"
   ]
  },
  {
   "cell_type": "code",
   "execution_count": null,
   "metadata": {},
   "outputs": [],
   "source": [
    "df_ports.columns=(df_ports.columns\n",
    "                   .str.replace('~','')\n",
    "                   .str.split(':').str[0]\n",
    "                   .str.upper()\n",
    "                  )"
   ]
  },
  {
   "cell_type": "code",
   "execution_count": null,
   "metadata": {},
   "outputs": [],
   "source": [
    "df_ports.dtypes"
   ]
  },
  {
   "cell_type": "markdown",
   "metadata": {},
   "source": [
    "### Create a Pandas DataFrame (`df_routes`) with connections between the airports only"
   ]
  },
  {
   "cell_type": "code",
   "execution_count": null,
   "metadata": {},
   "outputs": [],
   "source": [
    "df_edges.dtypes"
   ]
  },
  {
   "cell_type": "code",
   "execution_count": null,
   "metadata": {},
   "outputs": [],
   "source": [
    "df_edges.groupby('label').size()"
   ]
  },
  {
   "cell_type": "markdown",
   "metadata": {},
   "source": [
    "1. Keep only records with `route` labels.\n",
    "2. Remove unnecessary column `~label`."
   ]
  },
  {
   "cell_type": "code",
   "execution_count": null,
   "metadata": {},
   "outputs": [],
   "source": [
    "df_routes=df_edges[df_edges['~label'].isin(['route'])].drop(['~label'], axis=1).convert_dtypes()"
   ]
  },
  {
   "cell_type": "markdown",
   "metadata": {},
   "source": [
    "Clean up the column names"
   ]
  },
  {
   "cell_type": "code",
   "execution_count": null,
   "metadata": {},
   "outputs": [],
   "source": [
    "df_routes.columns=df_routes.columns.str.replace('~','').str.split(':').str[0].str.upper()"
   ]
  },
  {
   "cell_type": "code",
   "execution_count": null,
   "metadata": {},
   "outputs": [],
   "source": [
    "df_routes.dtypes"
   ]
  },
  {
   "cell_type": "markdown",
   "metadata": {},
   "source": [
    "## Upload into your SAP HANA database"
   ]
  },
  {
   "cell_type": "code",
   "execution_count": null,
   "metadata": {},
   "outputs": [],
   "source": [
    "import os, hana_ml\n",
    "print(hana_ml.__version__)"
   ]
  },
  {
   "cell_type": "code",
   "execution_count": null,
   "metadata": {},
   "outputs": [],
   "source": [
    "os.environ[\"HDB_USE_IDENT\"]=os.getenv(\"WORKSPACE_ID\")\n",
    "print(os.getenv(\"HDB_USE_IDENT\"))"
   ]
  },
  {
   "cell_type": "code",
   "execution_count": null,
   "metadata": {},
   "outputs": [],
   "source": [
    "from hana_ml import dataframe as hdf"
   ]
  },
  {
   "cell_type": "code",
   "execution_count": null,
   "metadata": {},
   "outputs": [],
   "source": [
    "myconn=hdf.ConnectionContext(userkey='myDevChallenger')\n",
    "print(\"SAP HANA DB version: \", myconn.hana_version())"
   ]
  },
  {
   "cell_type": "markdown",
   "metadata": {},
   "source": [
    "Upload data from a Pandas DataFrame to a SAP HANA database table and return an SAP HANA DataFrame `hdf_*`: https://help.sap.com/doc/cd94b08fe2e041c2ba778374572ddba9/2024_2_QRC/en-US/hana_ml.dataframe.html#hana_ml.dataframe.create_dataframe_from_pandas"
   ]
  },
  {
   "cell_type": "code",
   "execution_count": null,
   "metadata": {},
   "outputs": [],
   "source": [
    "hdf_ports=hdf.create_dataframe_from_spark(\n",
    "    connection_context=myconn,\n",
    "    pandas_df=df_ports,\n",
    "    table_name=\"PORTS\",\n",
    "    force=True\n",
    ")"
   ]
  },
  {
   "cell_type": "code",
   "execution_count": null,
   "metadata": {},
   "outputs": [],
   "source": [
    "hdf_routes=hdf.create_dataframe_from_spark(\n",
    "    connection_context=myconn, \n",
    "    pandas_df=df_routes, \n",
    "    table_name='ROUTES',\n",
    "    force=True\n",
    ")"
   ]
  },
  {
   "cell_type": "markdown",
   "metadata": {},
   "source": [
    "### Data exploration using HANA DataFrames"
   ]
  },
  {
   "cell_type": "markdown",
   "metadata": {},
   "source": [
    "Return a dictionary format of a table structure behind the HANA DataFrame: https://help.sap.com/doc/cd94b08fe2e041c2ba778374572ddba9/2024_2_QRC/en-US/hana_ml.dataframe.html#hana_ml.dataframe.DataFrame.get_table_structure"
   ]
  },
  {
   "cell_type": "code",
   "execution_count": null,
   "metadata": {},
   "outputs": [],
   "source": [
    "hdf_ports.set_table_structure()"
   ]
  },
  {
   "cell_type": "markdown",
   "metadata": {},
   "source": [
    "**What is the airport with the longest runway?**\n",
    "\n",
    "Note the use of:\n",
    "- [select()](https://help.sap.com/doc/cd94b08fe2e041c2ba778374572ddba9/2024_2_QRC/en-US/hana_ml.dataframe.html#hana_ml.dataframe.DataFrame.select)\n",
    "- [sort()](https://help.sap.com/doc/cd94b08fe2e041c2ba778374572ddba9/2024_2_QRC/en-US/hana_ml.dataframe.html#hana_ml.dataframe.DataFrame.sort)\n",
    "- [head()](https://help.sap.com/doc/cd94b08fe2e041c2ba778374572ddba9/2024_2_QRC/en-US/hana_ml.dataframe.html#hana_ml.dataframe.DataFrame.head)\n",
    "- [collect()](https://help.sap.com/doc/cd94b08fe2e041c2ba778374572ddba9/2024_2_QRC/en-US/hana_ml.dataframe.html#hana_ml.dataframe.DataFrame.collect)"
   ]
  },
  {
   "cell_type": "code",
   "execution_count": null,
   "metadata": {},
   "outputs": [],
   "source": [
    "(\n",
    "    hdf_ports\n",
    "    .select(\"CODE\", \"DESC\", \"LONGEST\", \"COUNTRY\", \"CITY\")\n",
    "    .sort(\"LONGEST\", desc=True)\n",
    "    .head().collect()\n",
    ")"
   ]
  },
  {
   "cell_type": "markdown",
   "metadata": {},
   "source": [
    "**What country has an airport with the highest number of runways?**\n",
    "\n",
    "Note the use of:\n",
    "- [agg()](https://help.sap.com/doc/cd94b08fe2e041c2ba778374572ddba9/2024_2_QRC/en-US/hana_ml.dataframe.html#hana_ml.dataframe.DataFrame.agg)"
   ]
  },
  {
   "cell_type": "code",
   "execution_count": null,
   "metadata": {},
   "outputs": [],
   "source": [
    "(\n",
    "    hdf_ports\n",
    "    .agg(\n",
    "        agg_list=[(\"max\", \"RUNWAYS\", \"MAXRUNWAYS\")], \n",
    "        group_by=\"COUNTRY\"\n",
    "    )\n",
    "    .sort(MAXRUNWAYS, desc=True)\n",
    "    .head().collect()\n",
    ")"
   ]
  },
  {
   "cell_type": "markdown",
   "metadata": {},
   "source": [
    "**What is the airport closest to either the North or South Pole?**\n",
    "\n",
    "Note the use of the calculated column `ABSOLUTE_LATITUDE` in a `select()`"
   ]
  },
  {
   "cell_type": "code",
   "execution_count": null,
   "metadata": {},
   "outputs": [],
   "source": [
    "(\n",
    "    hdf_ports\n",
    "    .select(\n",
    "        \"CODE\", \"DESC\", \"COUNTRY\", \"CITY\", \"LAT\", \"LON\",\n",
    "        ('ABS(\"LAT\")', \"ABSOLUTE_LATITUDE\")\n",
    "    )\n",
    "    .sort(\"ABSOLUTE_ATITUDE\", desc=True).head()\n",
    "    .collect()\n",
    ")"
   ]
  },
  {
   "cell_type": "markdown",
   "metadata": {},
   "source": [
    "**How far are the 3 southernmost airports from the South Pole?**\n",
    "\n",
    "Note the use of:\n",
    "- constructor [`ST_Point()`](https://help.sap.com/docs/hana-cloud-database/sap-hana-cloud-sap-hana-database-spatial-reference/st-point-double-double-integer-constructor?version=2024_2_QRC&locale=en-US) (note that it requires a key word `NEW` in front of it like in the object-oriented approach)\n",
    "- method [`ST_Distance()`](https://help.sap.com/docs/hana-cloud-database/sap-hana-cloud-sap-hana-database-spatial-reference/st-distance-method)\n",
    "- [Spatial Reference Identifier (SRID)](https://help.sap.com/docs/hana-cloud-database/sap-hana-cloud-sap-hana-database-spatial-reference/spatial-reference-systems-srs-and-spatial-reference-identifiers-srid) `4326` to make points and calculations on the Round Earth, and not a 2D projection\n",
    "- [unit of measure](https://help.sap.com/docs/hana-cloud-database/sap-hana-cloud-sap-hana-database-spatial-reference/units-of-measure) for the distance result"
   ]
  },
  {
   "cell_type": "code",
   "execution_count": null,
   "metadata": {},
   "outputs": [],
   "source": [
    "SRID=4326\n",
    "UNIT_OF_MEASURE='kilometer'\n",
    "\n",
    "(\n",
    "    df_ports\n",
    "    .select(\n",
    "        \"CODE\", \"DESC\", \"COUNTRY\", \"CITY\", \"LAT\", \"LON\", \n",
    "        (f'''NEW ST_Point(\"LON\", -90, {SRID}).ST_Distance(NEW ST_Point(\"LON\", \"LAT\", {SRID}), '{UNIT_OF_MEASURE}')''', f\"DISTANCE_FROM_SOUTHPOLE_IN_{UNIT_OF_MEASURE}\")\n",
    "    )\n",
    "    .sort(f\"DISTANCE_FROM_SOUTHPOLE_IN_{UNIT_OF_MEASURE}\", desc=False).head(3)\n",
    "    .collect()\n",
    ")"
   ]
  },
  {
   "cell_type": "markdown",
   "metadata": {},
   "source": [
    "👉 **Spatial units of measure** that can be used in queries are listed in the [system view `ST_UNITS_OF_MEASURE`](https://help.sap.com/docs/hana-cloud-database/sap-hana-cloud-sap-hana-database-sql-reference-guide/st-units-of-measure-system-view?version=2024_2_QRC&locale=en-US).\n",
    "\n",
    "In the query above you used the `kilometer`, but you can try some other units as well."
   ]
  },
  {
   "cell_type": "code",
   "execution_count": null,
   "metadata": {},
   "outputs": [],
   "source": [
    "myconn.table(\"ST_UNITS_OF_MEASURES\", schema=\"PUBLIC\").collect()"
   ]
  },
  {
   "cell_type": "markdown",
   "metadata": {},
   "source": [
    "👉 **Spatial reference systems** that can be used in queries are listed in the [system view `ST_SPATIAL_REFERENCE_SYSTEMS`](https://help.sap.com/docs/hana-cloud-database/sap-hana-cloud-sap-hana-database-sql-reference-guide/st-spatial-reference-systems-system-view?version=2024_2_QRC&locale=en-US).\n",
    "\n",
    "In the query above you used `4326`, which is the spatial reference system id (or **SRID**) standard used in cartography, geodesy, and satellite navigation including GPS: https://epsg.io/4326."
   ]
  },
  {
   "cell_type": "code",
   "execution_count": null,
   "metadata": {},
   "outputs": [],
   "source": [
    "myconn.table(\"ST_SPATIAL_REFERENCE_SYSTEMS\", schema=\"PUBLIC\").collect()"
   ]
  },
  {
   "cell_type": "markdown",
   "metadata": {},
   "source": [
    "**What are the two closest airport?**\n",
    "\n",
    "Note the use of:\n",
    "- [join()](https://help.sap.com/doc/cd94b08fe2e041c2ba778374572ddba9/2024_2_QRC/en-US/hana_ml.dataframe.html#hana_ml.dataframe.DataFrame.join)"
   ]
  },
  {
   "cell_type": "code",
   "execution_count": null,
   "metadata": {},
   "outputs": [],
   "source": [
    "(\n",
    "    hdf_routes\n",
    "    .sort(\"DIST\", desc=False)\n",
    "    .head()\n",
    "    .collect()\n",
    ")"
   ]
  },
  {
   "cell_type": "code",
   "execution_count": null,
   "metadata": {},
   "outputs": [],
   "source": [
    "(\n",
    "    hdf_routes.sort(\"DIST\", desc=False).head()\n",
    "    .alias('L1').join(hdf_ports.select((\"ID\", \"FROM_ID\"), \"ICAO\", \"DESC\").alias('R1'), 'L1.\"FROM\" = R1.\"FROM_ID\"')\n",
    "    .alias('L2').join(hdf_ports.select((\"ID\", \"TO_ID\"), \"ICAO\", \"DESC\").alias('R2'), 'L2.\"TO\" = R2.\"TO_ID\"')\n",
    "    .collect().iloc[:, 3:]\n",
    ")"
   ]
  },
  {
   "cell_type": "markdown",
   "metadata": {},
   "source": [
    "Closer inspection on the map explains such a short distance between the two airports: https://en.mapy.cz/zakladni?l=0&x=-2.9290799&y=59.3518237&z=14"
   ]
  },
  {
   "cell_type": "markdown",
   "metadata": {},
   "source": [
    "## Create SAP HANA graph workspace"
   ]
  },
  {
   "cell_type": "markdown",
   "metadata": {},
   "source": [
    "Use [`hana_ml.graph`](https://help.sap.com/doc/cd94b08fe2e041c2ba778374572ddba9/2024_2_QRC/en-US/hana_ml.graph.html#module-hana_ml.graph) from the Python Machine Learning Client for SAP HANA:\n",
    "* [create_graph_from_dataframes()](https://help.sap.com/doc/cd94b08fe2e041c2ba778374572ddba9/2024_2_QRC/en-US/hana_ml.graph.html#hana_ml.graph.create_graph_from_dataframes) to model a [graph workspace](https://help.sap.com/docs/hana-cloud-database/sap-hana-cloud-sap-hana-database-graph-reference/sap-hana-graph-data-model)\n",
    "* [discover_graph_workspaces()](https://help.sap.com/doc/cd94b08fe2e041c2ba778374572ddba9/2024_2_QRC/en-US/hana_ml.graph.html#hana_ml.graph.discover_graph_workspaces) to check existing [graphs workspace artifacts](https://help.sap.com/docs/hana-cloud-database/sap-hana-cloud-sap-hana-database-graph-reference/graph-metadata-views) in SAP HANA database"
   ]
  },
  {
   "cell_type": "code",
   "execution_count": null,
   "metadata": {},
   "outputs": [],
   "source": [
    "import hana_ml.graph"
   ]
  },
  {
   "cell_type": "code",
   "execution_count": null,
   "metadata": {},
   "outputs": [],
   "source": [
    "hgws_airroutes = (\n",
    "    hana_ml.graph.create_graph_from_dataframes(\n",
    "        connection_context=myconn, \n",
    "        workspace_name='AIRROUTES_DFH',\n",
    "        \n",
    "        vertices_df=hdf_ports,\n",
    "        vertex_key_column=\"ID\", \n",
    "        \n",
    "        edges_df=hdf_routes, \n",
    "        edge_key_column=\"ID\",\n",
    "        edge_source_column=\"FROM\", edge_target_column=\"TO\"\n",
    "    )\n",
    ")"
   ]
  },
  {
   "cell_type": "code",
   "execution_count": null,
   "metadata": {},
   "outputs": [],
   "source": [
    "hana_ml.graph.discover_graph_workspaces(myconn)"
   ]
  },
  {
   "cell_type": "markdown",
   "metadata": {},
   "source": [
    "### Exploring the graph's..."
   ]
  },
  {
   "cell_type": "markdown",
   "metadata": {},
   "source": [
    "...[vertices](https://help.sap.com/doc/cd94b08fe2e041c2ba778374572ddba9/2024_2_QRC/en-US/hana_ml.graph.html#hana_ml.graph.Graph.vertices) (nodes):"
   ]
  },
  {
   "cell_type": "code",
   "execution_count": null,
   "metadata": {},
   "outputs": [],
   "source": [
    "hgws_airroutes.vertices(vertex_key=313)"
   ]
  },
  {
   "cell_type": "markdown",
   "metadata": {},
   "source": [
    "...[edges](https://help.sap.com/doc/cd94b08fe2e041c2ba778374572ddba9/2024_2_QRC/en-US/hana_ml.graph.html#hana_ml.graph.Graph.edges) (connections):"
   ]
  },
  {
   "cell_type": "code",
   "execution_count": null,
   "metadata": {},
   "outputs": [],
   "source": [
    "hgws_airroutes.edges(vertex_key=313, direction='incoming').head(5)"
   ]
  }
 ],
 "metadata": {
  "kernelspec": {
   "display_name": ".venv",
   "language": "python",
   "name": "python3"
  },
  "language_info": {
   "codemirror_mode": {
    "name": "ipython",
    "version": 3
   },
   "file_extension": ".py",
   "mimetype": "text/x-python",
   "name": "python",
   "nbconvert_exporter": "python",
   "pygments_lexer": "ipython3",
   "version": "3.11.2"
  }
 },
 "nbformat": 4,
 "nbformat_minor": 2
}
