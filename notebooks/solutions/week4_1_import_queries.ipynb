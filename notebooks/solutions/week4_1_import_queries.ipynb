{
 "cells": [
  {
   "cell_type": "markdown",
   "metadata": {},
   "source": [
    "## Import data from the source files"
   ]
  },
  {
   "cell_type": "markdown",
   "metadata": {},
   "source": [
    "--> Data from https://github.com/krlawrence/graph/raw/master/sample-data/ is available under the Apache 2.0 license. Courtesy of Kelvin Lawrence."
   ]
  },
  {
   "cell_type": "code",
   "execution_count": 1,
   "metadata": {},
   "outputs": [],
   "source": [
    "import pandas as pd\n",
    "\n",
    "df_nodes=pd.read_csv('https://github.com/krlawrence/graph/raw/master/sample-data/air-routes-latest-nodes.csv')\n",
    "df_edges=pd.read_csv('https://github.com/krlawrence/graph/raw/master/sample-data/air-routes-latest-edges.csv')"
   ]
  },
  {
   "cell_type": "markdown",
   "metadata": {},
   "source": [
    "Preview a Pandas DataFrame with imported data"
   ]
  },
  {
   "cell_type": "code",
   "execution_count": 2,
   "metadata": {},
   "outputs": [
    {
     "data": {
      "text/html": [
       "<div>\n",
       "<style scoped>\n",
       "    .dataframe tbody tr th:only-of-type {\n",
       "        vertical-align: middle;\n",
       "    }\n",
       "\n",
       "    .dataframe tbody tr th {\n",
       "        vertical-align: top;\n",
       "    }\n",
       "\n",
       "    .dataframe thead th {\n",
       "        text-align: right;\n",
       "    }\n",
       "</style>\n",
       "<table border=\"1\" class=\"dataframe\">\n",
       "  <thead>\n",
       "    <tr style=\"text-align: right;\">\n",
       "      <th></th>\n",
       "      <th>~id</th>\n",
       "      <th>~label</th>\n",
       "      <th>type:string</th>\n",
       "      <th>code:string</th>\n",
       "      <th>icao:string</th>\n",
       "      <th>desc:string</th>\n",
       "      <th>region:string</th>\n",
       "      <th>runways:int</th>\n",
       "      <th>longest:int</th>\n",
       "      <th>elev:int</th>\n",
       "      <th>country:string</th>\n",
       "      <th>city:string</th>\n",
       "      <th>lat:double</th>\n",
       "      <th>lon:double</th>\n",
       "      <th>author:string</th>\n",
       "      <th>date:string</th>\n",
       "    </tr>\n",
       "  </thead>\n",
       "  <tbody>\n",
       "    <tr>\n",
       "      <th>0</th>\n",
       "      <td>0</td>\n",
       "      <td>version</td>\n",
       "      <td>version</td>\n",
       "      <td>0.89</td>\n",
       "      <td>NaN</td>\n",
       "      <td>Air Routes Data - Version: 0.89 Generated: 202...</td>\n",
       "      <td>NaN</td>\n",
       "      <td>NaN</td>\n",
       "      <td>NaN</td>\n",
       "      <td>NaN</td>\n",
       "      <td>NaN</td>\n",
       "      <td>NaN</td>\n",
       "      <td>NaN</td>\n",
       "      <td>NaN</td>\n",
       "      <td>Kelvin R. Lawrence</td>\n",
       "      <td>2022-08-29 14:10:18 UTC</td>\n",
       "    </tr>\n",
       "    <tr>\n",
       "      <th>1</th>\n",
       "      <td>1</td>\n",
       "      <td>airport</td>\n",
       "      <td>airport</td>\n",
       "      <td>ATL</td>\n",
       "      <td>KATL</td>\n",
       "      <td>Hartsfield - Jackson Atlanta International Air...</td>\n",
       "      <td>US-GA</td>\n",
       "      <td>5.0</td>\n",
       "      <td>12390.0</td>\n",
       "      <td>1026.0</td>\n",
       "      <td>US</td>\n",
       "      <td>Atlanta</td>\n",
       "      <td>33.6367</td>\n",
       "      <td>-84.428101</td>\n",
       "      <td>NaN</td>\n",
       "      <td>NaN</td>\n",
       "    </tr>\n",
       "    <tr>\n",
       "      <th>2</th>\n",
       "      <td>2</td>\n",
       "      <td>airport</td>\n",
       "      <td>airport</td>\n",
       "      <td>ANC</td>\n",
       "      <td>PANC</td>\n",
       "      <td>Anchorage Ted Stevens</td>\n",
       "      <td>US-AK</td>\n",
       "      <td>3.0</td>\n",
       "      <td>12400.0</td>\n",
       "      <td>151.0</td>\n",
       "      <td>US</td>\n",
       "      <td>Anchorage</td>\n",
       "      <td>61.1744</td>\n",
       "      <td>-149.996002</td>\n",
       "      <td>NaN</td>\n",
       "      <td>NaN</td>\n",
       "    </tr>\n",
       "  </tbody>\n",
       "</table>\n",
       "</div>"
      ],
      "text/plain": [
       "   ~id   ~label type:string code:string icao:string  \\\n",
       "0    0  version     version        0.89         NaN   \n",
       "1    1  airport     airport         ATL        KATL   \n",
       "2    2  airport     airport         ANC        PANC   \n",
       "\n",
       "                                         desc:string region:string  \\\n",
       "0  Air Routes Data - Version: 0.89 Generated: 202...           NaN   \n",
       "1  Hartsfield - Jackson Atlanta International Air...         US-GA   \n",
       "2                              Anchorage Ted Stevens         US-AK   \n",
       "\n",
       "   runways:int  longest:int  elev:int country:string city:string  lat:double  \\\n",
       "0          NaN          NaN       NaN            NaN         NaN         NaN   \n",
       "1          5.0      12390.0    1026.0             US     Atlanta     33.6367   \n",
       "2          3.0      12400.0     151.0             US   Anchorage     61.1744   \n",
       "\n",
       "   lon:double       author:string              date:string  \n",
       "0         NaN  Kelvin R. Lawrence  2022-08-29 14:10:18 UTC  \n",
       "1  -84.428101                 NaN                      NaN  \n",
       "2 -149.996002                 NaN                      NaN  "
      ]
     },
     "execution_count": 2,
     "metadata": {},
     "output_type": "execute_result"
    }
   ],
   "source": [
    "df_nodes.head(3)"
   ]
  },
  {
   "cell_type": "markdown",
   "metadata": {},
   "source": [
    "### Create a Pandas DataFrame (`df_ports`) with airports only"
   ]
  },
  {
   "cell_type": "code",
   "execution_count": 3,
   "metadata": {},
   "outputs": [
    {
     "data": {
      "text/plain": [
       "~id                 int64\n",
       "~label             object\n",
       "type:string        object\n",
       "code:string        object\n",
       "icao:string        object\n",
       "desc:string        object\n",
       "region:string      object\n",
       "runways:int       float64\n",
       "longest:int       float64\n",
       "elev:int          float64\n",
       "country:string     object\n",
       "city:string        object\n",
       "lat:double        float64\n",
       "lon:double        float64\n",
       "author:string      object\n",
       "date:string        object\n",
       "dtype: object"
      ]
     },
     "execution_count": 3,
     "metadata": {},
     "output_type": "execute_result"
    }
   ],
   "source": [
    "df_nodes.dtypes"
   ]
  },
  {
   "cell_type": "markdown",
   "metadata": {},
   "source": [
    "The DataFrame contains different types of data that are using different `~label` values:"
   ]
  },
  {
   "cell_type": "code",
   "execution_count": 4,
   "metadata": {},
   "outputs": [
    {
     "data": {
      "text/plain": [
       "~label\n",
       "airport      3504\n",
       "continent       7\n",
       "country       237\n",
       "version         1\n",
       "dtype: int64"
      ]
     },
     "execution_count": 4,
     "metadata": {},
     "output_type": "execute_result"
    }
   ],
   "source": [
    "df_nodes.groupby('~label').size()"
   ]
  },
  {
   "cell_type": "markdown",
   "metadata": {},
   "source": [
    "1. Keep only records with `airport` labels.\n",
    "2. Remove unnecessary columns."
   ]
  },
  {
   "cell_type": "code",
   "execution_count": 5,
   "metadata": {},
   "outputs": [],
   "source": [
    "df_ports=(\n",
    "           df_nodes[df_nodes['~label'].isin(['airport'])]\n",
    "           .drop(['~label','type:string','author:string','date:string'], axis=1)\n",
    "           .convert_dtypes()\n",
    "          )"
   ]
  },
  {
   "cell_type": "code",
   "execution_count": 6,
   "metadata": {},
   "outputs": [
    {
     "name": "stdout",
     "output_type": "stream",
     "text": [
      "~id                        Int64\n",
      "code:string       string[python]\n",
      "icao:string       string[python]\n",
      "desc:string       string[python]\n",
      "region:string     string[python]\n",
      "runways:int                Int64\n",
      "longest:int                Int64\n",
      "elev:int                   Int64\n",
      "country:string    string[python]\n",
      "city:string       string[python]\n",
      "lat:double               Float64\n",
      "lon:double               Float64\n",
      "dtype: object\n"
     ]
    }
   ],
   "source": [
    "print(df_ports.dtypes)"
   ]
  },
  {
   "cell_type": "markdown",
   "metadata": {},
   "source": [
    "Clean up the column names"
   ]
  },
  {
   "cell_type": "code",
   "execution_count": 7,
   "metadata": {},
   "outputs": [],
   "source": [
    "df_ports.columns=(df_ports.columns\n",
    "                   .str.replace('~','')\n",
    "                   .str.split(':').str[0]\n",
    "                   .str.upper()\n",
    "                  )"
   ]
  },
  {
   "cell_type": "code",
   "execution_count": 8,
   "metadata": {},
   "outputs": [
    {
     "data": {
      "text/plain": [
       "ID                  Int64\n",
       "CODE       string[python]\n",
       "ICAO       string[python]\n",
       "DESC       string[python]\n",
       "REGION     string[python]\n",
       "RUNWAYS             Int64\n",
       "LONGEST             Int64\n",
       "ELEV                Int64\n",
       "COUNTRY    string[python]\n",
       "CITY       string[python]\n",
       "LAT               Float64\n",
       "LON               Float64\n",
       "dtype: object"
      ]
     },
     "execution_count": 8,
     "metadata": {},
     "output_type": "execute_result"
    }
   ],
   "source": [
    "df_ports.dtypes"
   ]
  },
  {
   "cell_type": "markdown",
   "metadata": {},
   "source": [
    "### Create a Pandas DataFrame (`df_routes`) with connections between the airports only"
   ]
  },
  {
   "cell_type": "code",
   "execution_count": 9,
   "metadata": {},
   "outputs": [
    {
     "data": {
      "text/plain": [
       "~id           int64\n",
       "~from         int64\n",
       "~to           int64\n",
       "~label       object\n",
       "dist:int    float64\n",
       "dtype: object"
      ]
     },
     "execution_count": 9,
     "metadata": {},
     "output_type": "execute_result"
    }
   ],
   "source": [
    "df_edges.dtypes"
   ]
  },
  {
   "cell_type": "code",
   "execution_count": 10,
   "metadata": {},
   "outputs": [
    {
     "data": {
      "text/plain": [
       "~label\n",
       "contains     7008\n",
       "route       50637\n",
       "dtype: int64"
      ]
     },
     "execution_count": 10,
     "metadata": {},
     "output_type": "execute_result"
    }
   ],
   "source": [
    "df_edges.groupby('~label').size()"
   ]
  },
  {
   "cell_type": "markdown",
   "metadata": {},
   "source": [
    "1. Keep only records with `route` labels.\n",
    "2. Remove unnecessary column `~label`."
   ]
  },
  {
   "cell_type": "code",
   "execution_count": 11,
   "metadata": {},
   "outputs": [],
   "source": [
    "df_routes=df_edges[df_edges['~label'].isin(['route'])].drop(['~label'], axis=1).convert_dtypes()"
   ]
  },
  {
   "cell_type": "markdown",
   "metadata": {},
   "source": [
    "Clean up the column names"
   ]
  },
  {
   "cell_type": "code",
   "execution_count": 12,
   "metadata": {},
   "outputs": [],
   "source": [
    "df_routes.columns=df_routes.columns.str.replace('~','').str.split(':').str[0].str.upper()"
   ]
  },
  {
   "cell_type": "code",
   "execution_count": 13,
   "metadata": {},
   "outputs": [
    {
     "data": {
      "text/plain": [
       "ID      Int64\n",
       "FROM    Int64\n",
       "TO      Int64\n",
       "DIST    Int64\n",
       "dtype: object"
      ]
     },
     "execution_count": 13,
     "metadata": {},
     "output_type": "execute_result"
    }
   ],
   "source": [
    "df_routes.dtypes"
   ]
  },
  {
   "cell_type": "markdown",
   "metadata": {},
   "source": [
    "## Upload into your SAP HANA database"
   ]
  },
  {
   "cell_type": "code",
   "execution_count": 14,
   "metadata": {},
   "outputs": [
    {
     "name": "stdout",
     "output_type": "stream",
     "text": [
      "2.21.24062400\n"
     ]
    }
   ],
   "source": [
    "import os, hana_ml\n",
    "print(hana_ml.__version__)"
   ]
  },
  {
   "cell_type": "code",
   "execution_count": 15,
   "metadata": {},
   "outputs": [
    {
     "name": "stdout",
     "output_type": "stream",
     "text": [
      "workspaces-ws-vklhr\n"
     ]
    }
   ],
   "source": [
    "os.environ[\"HDB_USE_IDENT\"]=os.getenv(\"WORKSPACE_ID\")\n",
    "print(os.getenv(\"HDB_USE_IDENT\"))"
   ]
  },
  {
   "cell_type": "code",
   "execution_count": 16,
   "metadata": {},
   "outputs": [],
   "source": [
    "from hana_ml import dataframe as hdf"
   ]
  },
  {
   "cell_type": "code",
   "execution_count": 17,
   "metadata": {},
   "outputs": [
    {
     "name": "stdout",
     "output_type": "stream",
     "text": [
      "SAP HANA DB version:  4.00.000.00.1718710788 (fa/CE2024.14)\n"
     ]
    }
   ],
   "source": [
    "myconn=hdf.ConnectionContext(userkey='myDevChallenger')\n",
    "print(\"SAP HANA DB version: \", myconn.hana_version())"
   ]
  },
  {
   "cell_type": "markdown",
   "metadata": {},
   "source": [
    "Upload data from a Pandas DataFrame to a SAP HANA database table and return an SAP HANA DataFrame `hdf_*`: https://help.sap.com/doc/cd94b08fe2e041c2ba778374572ddba9/2024_2_QRC/en-US/hana_ml.dataframe.html#hana_ml.dataframe.create_dataframe_from_pandas"
   ]
  },
  {
   "cell_type": "code",
   "execution_count": 18,
   "metadata": {},
   "outputs": [
    {
     "name": "stderr",
     "output_type": "stream",
     "text": [
      "100%|██████████| 1/1 [00:00<00:00, 16.25it/s]\n"
     ]
    }
   ],
   "source": [
    "hdf_ports=hdf.create_dataframe_from_pandas(\n",
    "    connection_context=myconn,\n",
    "    pandas_df=df_ports,\n",
    "    table_name=\"PORTS\",\n",
    "    force=True\n",
    ")"
   ]
  },
  {
   "cell_type": "code",
   "execution_count": 19,
   "metadata": {},
   "outputs": [
    {
     "name": "stderr",
     "output_type": "stream",
     "text": [
      "100%|██████████| 2/2 [00:00<00:00,  8.38it/s]\n"
     ]
    }
   ],
   "source": [
    "hdf_routes=hdf.create_dataframe_from_pandas(\n",
    "    connection_context=myconn, \n",
    "    pandas_df=df_routes, \n",
    "    table_name='ROUTES',\n",
    "    force=True\n",
    ")"
   ]
  },
  {
   "cell_type": "markdown",
   "metadata": {},
   "source": [
    "### Data exploration using HANA DataFrames"
   ]
  },
  {
   "cell_type": "markdown",
   "metadata": {},
   "source": [
    "Return a dictionary format of a table structure: https://help.sap.com/doc/cd94b08fe2e041c2ba778374572ddba9/2024_2_QRC/en-US/hana_ml.dataframe.html#hana_ml.dataframe.DataFrame.get_table_structure"
   ]
  },
  {
   "cell_type": "code",
   "execution_count": 20,
   "metadata": {},
   "outputs": [
    {
     "data": {
      "text/plain": [
       "{'ID': 'INT',\n",
       " 'CODE': 'NVARCHAR(5000)',\n",
       " 'ICAO': 'NVARCHAR(5000)',\n",
       " 'DESC': 'NVARCHAR(5000)',\n",
       " 'REGION': 'NVARCHAR(5000)',\n",
       " 'RUNWAYS': 'INT',\n",
       " 'LONGEST': 'INT',\n",
       " 'ELEV': 'INT',\n",
       " 'COUNTRY': 'NVARCHAR(5000)',\n",
       " 'CITY': 'NVARCHAR(5000)',\n",
       " 'LAT': 'DOUBLE',\n",
       " 'LON': 'DOUBLE'}"
      ]
     },
     "execution_count": 20,
     "metadata": {},
     "output_type": "execute_result"
    }
   ],
   "source": [
    "hdf_ports.get_table_structure()"
   ]
  },
  {
   "cell_type": "markdown",
   "metadata": {},
   "source": [
    "**What is the airport with the longest runway?**\n",
    "\n",
    "Note the use of:\n",
    "- [select()](https://help.sap.com/doc/cd94b08fe2e041c2ba778374572ddba9/2024_2_QRC/en-US/hana_ml.dataframe.html#hana_ml.dataframe.DataFrame.select)\n",
    "- [sort()](https://help.sap.com/doc/cd94b08fe2e041c2ba778374572ddba9/2024_2_QRC/en-US/hana_ml.dataframe.html#hana_ml.dataframe.DataFrame.sort)\n",
    "- [head()](https://help.sap.com/doc/cd94b08fe2e041c2ba778374572ddba9/2024_2_QRC/en-US/hana_ml.dataframe.html#hana_ml.dataframe.DataFrame.head)\n",
    "- [collect()](https://help.sap.com/doc/cd94b08fe2e041c2ba778374572ddba9/2024_2_QRC/en-US/hana_ml.dataframe.html#hana_ml.dataframe.DataFrame.collect)"
   ]
  },
  {
   "cell_type": "code",
   "execution_count": 21,
   "metadata": {},
   "outputs": [
    {
     "data": {
      "text/html": [
       "<div>\n",
       "<style scoped>\n",
       "    .dataframe tbody tr th:only-of-type {\n",
       "        vertical-align: middle;\n",
       "    }\n",
       "\n",
       "    .dataframe tbody tr th {\n",
       "        vertical-align: top;\n",
       "    }\n",
       "\n",
       "    .dataframe thead th {\n",
       "        text-align: right;\n",
       "    }\n",
       "</style>\n",
       "<table border=\"1\" class=\"dataframe\">\n",
       "  <thead>\n",
       "    <tr style=\"text-align: right;\">\n",
       "      <th></th>\n",
       "      <th>CODE</th>\n",
       "      <th>DESC</th>\n",
       "      <th>LONGEST</th>\n",
       "      <th>COUNTRY</th>\n",
       "      <th>CITY</th>\n",
       "    </tr>\n",
       "  </thead>\n",
       "  <tbody>\n",
       "    <tr>\n",
       "      <th>0</th>\n",
       "      <td>BPX</td>\n",
       "      <td>Qamdo Bangda Airport</td>\n",
       "      <td>18045</td>\n",
       "      <td>CN</td>\n",
       "      <td>Bangda</td>\n",
       "    </tr>\n",
       "  </tbody>\n",
       "</table>\n",
       "</div>"
      ],
      "text/plain": [
       "  CODE                  DESC  LONGEST COUNTRY    CITY\n",
       "0  BPX  Qamdo Bangda Airport    18045      CN  Bangda"
      ]
     },
     "execution_count": 21,
     "metadata": {},
     "output_type": "execute_result"
    }
   ],
   "source": [
    "(\n",
    "    hdf_ports\n",
    "    .select(\"CODE\", \"DESC\", \"LONGEST\", \"COUNTRY\", \"CITY\")\n",
    "    .sort(\"LONGEST\", desc=True)\n",
    "    .head().collect()\n",
    ")"
   ]
  },
  {
   "cell_type": "markdown",
   "metadata": {},
   "source": [
    "**What country has an airport with the highest number of runways?**\n",
    "\n",
    "Note the use of:\n",
    "- [agg()](https://help.sap.com/doc/cd94b08fe2e041c2ba778374572ddba9/2024_2_QRC/en-US/hana_ml.dataframe.html#hana_ml.dataframe.DataFrame.agg)"
   ]
  },
  {
   "cell_type": "code",
   "execution_count": 22,
   "metadata": {},
   "outputs": [
    {
     "data": {
      "text/html": [
       "<div>\n",
       "<style scoped>\n",
       "    .dataframe tbody tr th:only-of-type {\n",
       "        vertical-align: middle;\n",
       "    }\n",
       "\n",
       "    .dataframe tbody tr th {\n",
       "        vertical-align: top;\n",
       "    }\n",
       "\n",
       "    .dataframe thead th {\n",
       "        text-align: right;\n",
       "    }\n",
       "</style>\n",
       "<table border=\"1\" class=\"dataframe\">\n",
       "  <thead>\n",
       "    <tr style=\"text-align: right;\">\n",
       "      <th></th>\n",
       "      <th>COUNTRY</th>\n",
       "      <th>MAXRUNWAYS</th>\n",
       "    </tr>\n",
       "  </thead>\n",
       "  <tbody>\n",
       "    <tr>\n",
       "      <th>0</th>\n",
       "      <td>US</td>\n",
       "      <td>7</td>\n",
       "    </tr>\n",
       "  </tbody>\n",
       "</table>\n",
       "</div>"
      ],
      "text/plain": [
       "  COUNTRY  MAXRUNWAYS\n",
       "0      US           7"
      ]
     },
     "execution_count": 22,
     "metadata": {},
     "output_type": "execute_result"
    }
   ],
   "source": [
    "(\n",
    "    hdf_ports\n",
    "    .agg(\n",
    "        agg_list=[(\"max\", \"RUNWAYS\", \"MAXRUNWAYS\")], \n",
    "        group_by=\"COUNTRY\"\n",
    "    )\n",
    "    .sort(\"MAXRUNWAYS\", desc=True)\n",
    "    .head().collect()\n",
    ")"
   ]
  },
  {
   "cell_type": "markdown",
   "metadata": {},
   "source": [
    "**What is the airport closest to either the North or South Pole?**\n",
    "\n",
    "Note the use of the calculated column `ABSOLUTE_LATITUDE` in a `select()`"
   ]
  },
  {
   "cell_type": "code",
   "execution_count": 23,
   "metadata": {},
   "outputs": [
    {
     "data": {
      "text/html": [
       "<div>\n",
       "<style scoped>\n",
       "    .dataframe tbody tr th:only-of-type {\n",
       "        vertical-align: middle;\n",
       "    }\n",
       "\n",
       "    .dataframe tbody tr th {\n",
       "        vertical-align: top;\n",
       "    }\n",
       "\n",
       "    .dataframe thead th {\n",
       "        text-align: right;\n",
       "    }\n",
       "</style>\n",
       "<table border=\"1\" class=\"dataframe\">\n",
       "  <thead>\n",
       "    <tr style=\"text-align: right;\">\n",
       "      <th></th>\n",
       "      <th>CODE</th>\n",
       "      <th>DESC</th>\n",
       "      <th>COUNTRY</th>\n",
       "      <th>CITY</th>\n",
       "      <th>LAT</th>\n",
       "      <th>LON</th>\n",
       "      <th>ABSOLUTE_LATITUDE</th>\n",
       "    </tr>\n",
       "  </thead>\n",
       "  <tbody>\n",
       "    <tr>\n",
       "      <th>0</th>\n",
       "      <td>LYR</td>\n",
       "      <td>Svalbard Airport, Longyear</td>\n",
       "      <td>NO</td>\n",
       "      <td>Longyearbyen</td>\n",
       "      <td>78.246101</td>\n",
       "      <td>15.4656</td>\n",
       "      <td>78.246101</td>\n",
       "    </tr>\n",
       "  </tbody>\n",
       "</table>\n",
       "</div>"
      ],
      "text/plain": [
       "  CODE                        DESC COUNTRY          CITY        LAT      LON  \\\n",
       "0  LYR  Svalbard Airport, Longyear      NO  Longyearbyen  78.246101  15.4656   \n",
       "\n",
       "   ABSOLUTE_LATITUDE  \n",
       "0          78.246101  "
      ]
     },
     "execution_count": 23,
     "metadata": {},
     "output_type": "execute_result"
    }
   ],
   "source": [
    "(\n",
    "    hdf_ports\n",
    "    .select(\n",
    "        \"CODE\", \"DESC\", \"COUNTRY\", \"CITY\", \"LAT\", \"LON\",\n",
    "        ('ABS(\"LAT\")', \"ABSOLUTE_LATITUDE\")\n",
    "    )\n",
    "    .sort(\"ABSOLUTE_LATITUDE\", desc=True).head()\n",
    "    .collect()\n",
    ")"
   ]
  },
  {
   "cell_type": "markdown",
   "metadata": {},
   "source": [
    "**How far are the 3 southernmost airports from the South Pole?**\n",
    "\n",
    "Note the use of:\n",
    "- constructor [`ST_Point()`](https://help.sap.com/docs/hana-cloud-database/sap-hana-cloud-sap-hana-database-spatial-reference/st-point-double-double-integer-constructor?version=2024_2_QRC&locale=en-US)\n",
    "- method [`ST_Distance()`](https://help.sap.com/docs/hana-cloud-database/sap-hana-cloud-sap-hana-database-spatial-reference/st-distance-method)\n",
    "- [Spatial Reference Identifier (SRID)](https://help.sap.com/docs/hana-cloud-database/sap-hana-cloud-sap-hana-database-spatial-reference/spatial-reference-systems-srs-and-spatial-reference-identifiers-srid) `4326` to make points and calculations on the Round Earth, and not a 2D projection\n",
    "- [unit of measure](https://help.sap.com/docs/hana-cloud-database/sap-hana-cloud-sap-hana-database-spatial-reference/units-of-measure) for the distance result"
   ]
  },
  {
   "cell_type": "code",
   "execution_count": 24,
   "metadata": {},
   "outputs": [
    {
     "data": {
      "text/html": [
       "<div>\n",
       "<style scoped>\n",
       "    .dataframe tbody tr th:only-of-type {\n",
       "        vertical-align: middle;\n",
       "    }\n",
       "\n",
       "    .dataframe tbody tr th {\n",
       "        vertical-align: top;\n",
       "    }\n",
       "\n",
       "    .dataframe thead th {\n",
       "        text-align: right;\n",
       "    }\n",
       "</style>\n",
       "<table border=\"1\" class=\"dataframe\">\n",
       "  <thead>\n",
       "    <tr style=\"text-align: right;\">\n",
       "      <th></th>\n",
       "      <th>CODE</th>\n",
       "      <th>DESC</th>\n",
       "      <th>COUNTRY</th>\n",
       "      <th>CITY</th>\n",
       "      <th>LAT</th>\n",
       "      <th>LON</th>\n",
       "      <th>DISTANCE_FROM_SOUTHPOLE_IN_kilometer</th>\n",
       "    </tr>\n",
       "  </thead>\n",
       "  <tbody>\n",
       "    <tr>\n",
       "      <th>0</th>\n",
       "      <td>USH</td>\n",
       "      <td>Malvinas Argentinas Airport</td>\n",
       "      <td>AR</td>\n",
       "      <td>Ushuahia</td>\n",
       "      <td>-54.843300</td>\n",
       "      <td>-68.295800</td>\n",
       "      <td>3922.179587</td>\n",
       "    </tr>\n",
       "    <tr>\n",
       "      <th>1</th>\n",
       "      <td>RGA</td>\n",
       "      <td>Hermes Quijada International Airport</td>\n",
       "      <td>AR</td>\n",
       "      <td>Rio Grande</td>\n",
       "      <td>-53.777700</td>\n",
       "      <td>-67.749400</td>\n",
       "      <td>4040.792342</td>\n",
       "    </tr>\n",
       "    <tr>\n",
       "      <th>2</th>\n",
       "      <td>PUQ</td>\n",
       "      <td>Pdte. Carlos Ibañez del Campo Airport</td>\n",
       "      <td>CL</td>\n",
       "      <td>Punta Arenas</td>\n",
       "      <td>-53.002602</td>\n",
       "      <td>-70.854599</td>\n",
       "      <td>4127.055828</td>\n",
       "    </tr>\n",
       "  </tbody>\n",
       "</table>\n",
       "</div>"
      ],
      "text/plain": [
       "  CODE                                   DESC COUNTRY          CITY  \\\n",
       "0  USH            Malvinas Argentinas Airport      AR      Ushuahia   \n",
       "1  RGA   Hermes Quijada International Airport      AR    Rio Grande   \n",
       "2  PUQ  Pdte. Carlos Ibañez del Campo Airport      CL  Punta Arenas   \n",
       "\n",
       "         LAT        LON  DISTANCE_FROM_SOUTHPOLE_IN_kilometer  \n",
       "0 -54.843300 -68.295800                           3922.179587  \n",
       "1 -53.777700 -67.749400                           4040.792342  \n",
       "2 -53.002602 -70.854599                           4127.055828  "
      ]
     },
     "execution_count": 24,
     "metadata": {},
     "output_type": "execute_result"
    }
   ],
   "source": [
    "SRID=4326\n",
    "UNIT_OF_MEASURE='kilometer'\n",
    "\n",
    "(\n",
    "    hdf_ports\n",
    "    .select(\n",
    "        \"CODE\", \"DESC\", \"COUNTRY\", \"CITY\", \"LAT\", \"LON\", \n",
    "        (f'''NEW ST_Point(\"LON\", -90, {SRID}).ST_Distance(NEW ST_Point(\"LON\", \"LAT\", {SRID}), '{UNIT_OF_MEASURE}')''', f\"DISTANCE_FROM_SOUTHPOLE_IN_{UNIT_OF_MEASURE}\")\n",
    "    )\n",
    "    .sort(f\"DISTANCE_FROM_SOUTHPOLE_IN_{UNIT_OF_MEASURE}\", desc=False).head(3)\n",
    "    .collect()\n",
    ")"
   ]
  },
  {
   "cell_type": "markdown",
   "metadata": {},
   "source": [
    "👉 **Spatial units of measure** that can be used in queries are listed in the [system view `ST_UNITS_OF_MEASURE`](https://help.sap.com/docs/hana-cloud-database/sap-hana-cloud-sap-hana-database-sql-reference-guide/st-units-of-measure-system-view?version=2024_2_QRC&locale=en-US).\n",
    "\n",
    "In the query above you used the `kilometer`, but you can try some other units as well."
   ]
  },
  {
   "cell_type": "code",
   "execution_count": 25,
   "metadata": {},
   "outputs": [
    {
     "data": {
      "text/html": [
       "<div>\n",
       "<style scoped>\n",
       "    .dataframe tbody tr th:only-of-type {\n",
       "        vertical-align: middle;\n",
       "    }\n",
       "\n",
       "    .dataframe tbody tr th {\n",
       "        vertical-align: top;\n",
       "    }\n",
       "\n",
       "    .dataframe thead th {\n",
       "        text-align: right;\n",
       "    }\n",
       "</style>\n",
       "<table border=\"1\" class=\"dataframe\">\n",
       "  <thead>\n",
       "    <tr style=\"text-align: right;\">\n",
       "      <th></th>\n",
       "      <th>OWNER_NAME</th>\n",
       "      <th>UNIT_NAME</th>\n",
       "      <th>UNIT_TYPE</th>\n",
       "      <th>CONVERSION_FACTOR</th>\n",
       "      <th>CREATOR</th>\n",
       "    </tr>\n",
       "  </thead>\n",
       "  <tbody>\n",
       "    <tr>\n",
       "      <th>0</th>\n",
       "      <td>SYS</td>\n",
       "      <td>50_Kilometers</td>\n",
       "      <td>LINEAR</td>\n",
       "      <td>50000.000000</td>\n",
       "      <td>SYS</td>\n",
       "    </tr>\n",
       "    <tr>\n",
       "      <th>1</th>\n",
       "      <td>SYS</td>\n",
       "      <td>kilometer</td>\n",
       "      <td>LINEAR</td>\n",
       "      <td>1000.000000</td>\n",
       "      <td>SYS</td>\n",
       "    </tr>\n",
       "    <tr>\n",
       "      <th>2</th>\n",
       "      <td>SYS</td>\n",
       "      <td>Clarke's yard</td>\n",
       "      <td>LINEAR</td>\n",
       "      <td>0.914392</td>\n",
       "      <td>SYS</td>\n",
       "    </tr>\n",
       "    <tr>\n",
       "      <th>3</th>\n",
       "      <td>SYS</td>\n",
       "      <td>degree</td>\n",
       "      <td>ANGULAR</td>\n",
       "      <td>0.017453</td>\n",
       "      <td>SYS</td>\n",
       "    </tr>\n",
       "    <tr>\n",
       "      <th>4</th>\n",
       "      <td>SYS</td>\n",
       "      <td>British chain (Benoit 1895 B)</td>\n",
       "      <td>LINEAR</td>\n",
       "      <td>20.116782</td>\n",
       "      <td>SYS</td>\n",
       "    </tr>\n",
       "    <tr>\n",
       "      <th>5</th>\n",
       "      <td>SYS</td>\n",
       "      <td>link</td>\n",
       "      <td>LINEAR</td>\n",
       "      <td>0.201168</td>\n",
       "      <td>SYS</td>\n",
       "    </tr>\n",
       "    <tr>\n",
       "      <th>6</th>\n",
       "      <td>SYS</td>\n",
       "      <td>German legal metre</td>\n",
       "      <td>LINEAR</td>\n",
       "      <td>1.000014</td>\n",
       "      <td>SYS</td>\n",
       "    </tr>\n",
       "    <tr>\n",
       "      <th>7</th>\n",
       "      <td>SYS</td>\n",
       "      <td>grad</td>\n",
       "      <td>ANGULAR</td>\n",
       "      <td>0.015708</td>\n",
       "      <td>SYS</td>\n",
       "    </tr>\n",
       "    <tr>\n",
       "      <th>8</th>\n",
       "      <td>SYS</td>\n",
       "      <td>British chain (Sears 1922 truncated)</td>\n",
       "      <td>LINEAR</td>\n",
       "      <td>20.116756</td>\n",
       "      <td>SYS</td>\n",
       "    </tr>\n",
       "    <tr>\n",
       "      <th>9</th>\n",
       "      <td>SYS</td>\n",
       "      <td>metre</td>\n",
       "      <td>LINEAR</td>\n",
       "      <td>1.000000</td>\n",
       "      <td>SYS</td>\n",
       "    </tr>\n",
       "    <tr>\n",
       "      <th>10</th>\n",
       "      <td>SYS</td>\n",
       "      <td>Indian foot</td>\n",
       "      <td>LINEAR</td>\n",
       "      <td>0.304800</td>\n",
       "      <td>SYS</td>\n",
       "    </tr>\n",
       "    <tr>\n",
       "      <th>11</th>\n",
       "      <td>SYS</td>\n",
       "      <td>British yard (Sears 1922)</td>\n",
       "      <td>LINEAR</td>\n",
       "      <td>0.914398</td>\n",
       "      <td>SYS</td>\n",
       "    </tr>\n",
       "    <tr>\n",
       "      <th>12</th>\n",
       "      <td>SYS</td>\n",
       "      <td>planar grad</td>\n",
       "      <td>LINEAR</td>\n",
       "      <td>100075.000000</td>\n",
       "      <td>SYS</td>\n",
       "    </tr>\n",
       "    <tr>\n",
       "      <th>13</th>\n",
       "      <td>SYS</td>\n",
       "      <td>Indian yard (1937)</td>\n",
       "      <td>LINEAR</td>\n",
       "      <td>0.914395</td>\n",
       "      <td>SYS</td>\n",
       "    </tr>\n",
       "    <tr>\n",
       "      <th>14</th>\n",
       "      <td>SYS</td>\n",
       "      <td>Clarke's link</td>\n",
       "      <td>LINEAR</td>\n",
       "      <td>0.201166</td>\n",
       "      <td>SYS</td>\n",
       "    </tr>\n",
       "    <tr>\n",
       "      <th>15</th>\n",
       "      <td>SYS</td>\n",
       "      <td>yard</td>\n",
       "      <td>LINEAR</td>\n",
       "      <td>0.914400</td>\n",
       "      <td>SYS</td>\n",
       "    </tr>\n",
       "    <tr>\n",
       "      <th>16</th>\n",
       "      <td>SYS</td>\n",
       "      <td>150_Kilometers</td>\n",
       "      <td>LINEAR</td>\n",
       "      <td>150000.000000</td>\n",
       "      <td>SYS</td>\n",
       "    </tr>\n",
       "    <tr>\n",
       "      <th>17</th>\n",
       "      <td>SYS</td>\n",
       "      <td>kilometre</td>\n",
       "      <td>LINEAR</td>\n",
       "      <td>1000.000000</td>\n",
       "      <td>SYS</td>\n",
       "    </tr>\n",
       "    <tr>\n",
       "      <th>18</th>\n",
       "      <td>SYS</td>\n",
       "      <td>foot</td>\n",
       "      <td>LINEAR</td>\n",
       "      <td>0.304800</td>\n",
       "      <td>SYS</td>\n",
       "    </tr>\n",
       "    <tr>\n",
       "      <th>19</th>\n",
       "      <td>SYS</td>\n",
       "      <td>Degree</td>\n",
       "      <td>ANGULAR</td>\n",
       "      <td>0.017453</td>\n",
       "      <td>SYS</td>\n",
       "    </tr>\n",
       "    <tr>\n",
       "      <th>20</th>\n",
       "      <td>SYS</td>\n",
       "      <td>British chain (Sears 1922)</td>\n",
       "      <td>LINEAR</td>\n",
       "      <td>20.116765</td>\n",
       "      <td>SYS</td>\n",
       "    </tr>\n",
       "    <tr>\n",
       "      <th>21</th>\n",
       "      <td>SYS</td>\n",
       "      <td>meter</td>\n",
       "      <td>LINEAR</td>\n",
       "      <td>1.000000</td>\n",
       "      <td>SYS</td>\n",
       "    </tr>\n",
       "    <tr>\n",
       "      <th>22</th>\n",
       "      <td>SYS</td>\n",
       "      <td>Gold Coast foot</td>\n",
       "      <td>LINEAR</td>\n",
       "      <td>0.304800</td>\n",
       "      <td>SYS</td>\n",
       "    </tr>\n",
       "    <tr>\n",
       "      <th>23</th>\n",
       "      <td>SYS</td>\n",
       "      <td>radian</td>\n",
       "      <td>ANGULAR</td>\n",
       "      <td>1.000000</td>\n",
       "      <td>SYS</td>\n",
       "    </tr>\n",
       "    <tr>\n",
       "      <th>24</th>\n",
       "      <td>SYS</td>\n",
       "      <td>British foot (Sears 1922)</td>\n",
       "      <td>LINEAR</td>\n",
       "      <td>0.304799</td>\n",
       "      <td>SYS</td>\n",
       "    </tr>\n",
       "    <tr>\n",
       "      <th>25</th>\n",
       "      <td>SYS</td>\n",
       "      <td>planar degree</td>\n",
       "      <td>LINEAR</td>\n",
       "      <td>111120.000000</td>\n",
       "      <td>SYS</td>\n",
       "    </tr>\n",
       "    <tr>\n",
       "      <th>26</th>\n",
       "      <td>SYS</td>\n",
       "      <td>Indian yard</td>\n",
       "      <td>LINEAR</td>\n",
       "      <td>0.914399</td>\n",
       "      <td>SYS</td>\n",
       "    </tr>\n",
       "    <tr>\n",
       "      <th>27</th>\n",
       "      <td>SYS</td>\n",
       "      <td>Clarke's foot</td>\n",
       "      <td>LINEAR</td>\n",
       "      <td>0.304797</td>\n",
       "      <td>SYS</td>\n",
       "    </tr>\n",
       "    <tr>\n",
       "      <th>28</th>\n",
       "      <td>SYS</td>\n",
       "      <td>US survey foot</td>\n",
       "      <td>LINEAR</td>\n",
       "      <td>0.304801</td>\n",
       "      <td>SYS</td>\n",
       "    </tr>\n",
       "  </tbody>\n",
       "</table>\n",
       "</div>"
      ],
      "text/plain": [
       "   OWNER_NAME                             UNIT_NAME UNIT_TYPE  \\\n",
       "0         SYS                         50_Kilometers    LINEAR   \n",
       "1         SYS                             kilometer    LINEAR   \n",
       "2         SYS                         Clarke's yard    LINEAR   \n",
       "3         SYS                                degree   ANGULAR   \n",
       "4         SYS         British chain (Benoit 1895 B)    LINEAR   \n",
       "5         SYS                                  link    LINEAR   \n",
       "6         SYS                    German legal metre    LINEAR   \n",
       "7         SYS                                  grad   ANGULAR   \n",
       "8         SYS  British chain (Sears 1922 truncated)    LINEAR   \n",
       "9         SYS                                 metre    LINEAR   \n",
       "10        SYS                           Indian foot    LINEAR   \n",
       "11        SYS             British yard (Sears 1922)    LINEAR   \n",
       "12        SYS                           planar grad    LINEAR   \n",
       "13        SYS                    Indian yard (1937)    LINEAR   \n",
       "14        SYS                         Clarke's link    LINEAR   \n",
       "15        SYS                                  yard    LINEAR   \n",
       "16        SYS                        150_Kilometers    LINEAR   \n",
       "17        SYS                             kilometre    LINEAR   \n",
       "18        SYS                                  foot    LINEAR   \n",
       "19        SYS                                Degree   ANGULAR   \n",
       "20        SYS            British chain (Sears 1922)    LINEAR   \n",
       "21        SYS                                 meter    LINEAR   \n",
       "22        SYS                       Gold Coast foot    LINEAR   \n",
       "23        SYS                                radian   ANGULAR   \n",
       "24        SYS             British foot (Sears 1922)    LINEAR   \n",
       "25        SYS                         planar degree    LINEAR   \n",
       "26        SYS                           Indian yard    LINEAR   \n",
       "27        SYS                         Clarke's foot    LINEAR   \n",
       "28        SYS                        US survey foot    LINEAR   \n",
       "\n",
       "    CONVERSION_FACTOR CREATOR  \n",
       "0        50000.000000     SYS  \n",
       "1         1000.000000     SYS  \n",
       "2            0.914392     SYS  \n",
       "3            0.017453     SYS  \n",
       "4           20.116782     SYS  \n",
       "5            0.201168     SYS  \n",
       "6            1.000014     SYS  \n",
       "7            0.015708     SYS  \n",
       "8           20.116756     SYS  \n",
       "9            1.000000     SYS  \n",
       "10           0.304800     SYS  \n",
       "11           0.914398     SYS  \n",
       "12      100075.000000     SYS  \n",
       "13           0.914395     SYS  \n",
       "14           0.201166     SYS  \n",
       "15           0.914400     SYS  \n",
       "16      150000.000000     SYS  \n",
       "17        1000.000000     SYS  \n",
       "18           0.304800     SYS  \n",
       "19           0.017453     SYS  \n",
       "20          20.116765     SYS  \n",
       "21           1.000000     SYS  \n",
       "22           0.304800     SYS  \n",
       "23           1.000000     SYS  \n",
       "24           0.304799     SYS  \n",
       "25      111120.000000     SYS  \n",
       "26           0.914399     SYS  \n",
       "27           0.304797     SYS  \n",
       "28           0.304801     SYS  "
      ]
     },
     "execution_count": 25,
     "metadata": {},
     "output_type": "execute_result"
    }
   ],
   "source": [
    "myconn.table(\"ST_UNITS_OF_MEASURE\", schema=\"PUBLIC\").collect()"
   ]
  },
  {
   "cell_type": "markdown",
   "metadata": {},
   "source": [
    "👉 **Spatial reference systems** that can be used in queries are listed in the [system view `ST_SPATIAL_REFERENCE_SYSTEMS`](https://help.sap.com/docs/hana-cloud-database/sap-hana-cloud-sap-hana-database-sql-reference-guide/st-spatial-reference-systems-system-view?version=2024_2_QRC&locale=en-US).\n",
    "\n",
    "In the query above you used `4326`, which is the spatial reference system id (or **SRID**) standard used in cartography, geodesy, and satellite navigation including GPS: https://epsg.org/crs_4326/WGS-84.html."
   ]
  },
  {
   "cell_type": "code",
   "execution_count": 26,
   "metadata": {},
   "outputs": [
    {
     "data": {
      "text/html": [
       "<div>\n",
       "<style scoped>\n",
       "    .dataframe tbody tr th:only-of-type {\n",
       "        vertical-align: middle;\n",
       "    }\n",
       "\n",
       "    .dataframe tbody tr th {\n",
       "        vertical-align: top;\n",
       "    }\n",
       "\n",
       "    .dataframe thead th {\n",
       "        text-align: right;\n",
       "    }\n",
       "</style>\n",
       "<table border=\"1\" class=\"dataframe\">\n",
       "  <thead>\n",
       "    <tr style=\"text-align: right;\">\n",
       "      <th></th>\n",
       "      <th>OWNER_NAME</th>\n",
       "      <th>SRS_ID</th>\n",
       "      <th>SRS_NAME</th>\n",
       "      <th>ROUND_EARTH</th>\n",
       "      <th>AXIS_ORDER</th>\n",
       "      <th>SNAP_TO_GRID</th>\n",
       "      <th>TOLERANCE</th>\n",
       "      <th>SEMI_MAJOR_AXIS</th>\n",
       "      <th>SEMI_MINOR_AXIS</th>\n",
       "      <th>INV_FLATTENING</th>\n",
       "      <th>...</th>\n",
       "      <th>ORGANIZATION</th>\n",
       "      <th>ORGANIZATION_COORDSYS_ID</th>\n",
       "      <th>SRS_TYPE</th>\n",
       "      <th>LINEAR_UNIT_OF_MEASURE</th>\n",
       "      <th>ANGULAR_UNIT_OF_MEASURE</th>\n",
       "      <th>POLYGON_FORMAT</th>\n",
       "      <th>STORAGE_FORMAT</th>\n",
       "      <th>DEFINITION</th>\n",
       "      <th>TRANSFORM_DEFINITION</th>\n",
       "      <th>CREATOR</th>\n",
       "    </tr>\n",
       "  </thead>\n",
       "  <tbody>\n",
       "    <tr>\n",
       "      <th>0</th>\n",
       "      <td>SYS</td>\n",
       "      <td>0</td>\n",
       "      <td>Default</td>\n",
       "      <td>FALSE</td>\n",
       "      <td>x/y/z/m</td>\n",
       "      <td>1.000000e-06</td>\n",
       "      <td>0.0</td>\n",
       "      <td>NaN</td>\n",
       "      <td>None</td>\n",
       "      <td>NaN</td>\n",
       "      <td>...</td>\n",
       "      <td>SAP</td>\n",
       "      <td>0</td>\n",
       "      <td>ENGINEERING</td>\n",
       "      <td>meter</td>\n",
       "      <td>None</td>\n",
       "      <td>EVENODD</td>\n",
       "      <td>INTERNAL</td>\n",
       "      <td>None</td>\n",
       "      <td>None</td>\n",
       "      <td>SYS</td>\n",
       "    </tr>\n",
       "    <tr>\n",
       "      <th>1</th>\n",
       "      <td>SYS</td>\n",
       "      <td>3857</td>\n",
       "      <td>WGS 84 / Pseudo-Mercator</td>\n",
       "      <td>FALSE</td>\n",
       "      <td>x/y/z/m</td>\n",
       "      <td>1.000000e-04</td>\n",
       "      <td>0.0</td>\n",
       "      <td>NaN</td>\n",
       "      <td>None</td>\n",
       "      <td>NaN</td>\n",
       "      <td>...</td>\n",
       "      <td>EPSG</td>\n",
       "      <td>3857</td>\n",
       "      <td>PROJECTED</td>\n",
       "      <td>metre</td>\n",
       "      <td>degree</td>\n",
       "      <td>EVENODD</td>\n",
       "      <td>INTERNAL</td>\n",
       "      <td>PROJCS[\"WGS 84 / Pseudo-Mercator\",GEOGCS[\"WGS ...</td>\n",
       "      <td>+proj=merc +a=6378137 +b=6378137 +lat_ts=0 +lo...</td>\n",
       "      <td>SYS</td>\n",
       "    </tr>\n",
       "    <tr>\n",
       "      <th>2</th>\n",
       "      <td>SYS</td>\n",
       "      <td>4326</td>\n",
       "      <td>WGS 84</td>\n",
       "      <td>TRUE</td>\n",
       "      <td>long/lat/z/m</td>\n",
       "      <td>0.000000e+00</td>\n",
       "      <td>0.0</td>\n",
       "      <td>6378137.0</td>\n",
       "      <td>None</td>\n",
       "      <td>298.257224</td>\n",
       "      <td>...</td>\n",
       "      <td>EPSG</td>\n",
       "      <td>4326</td>\n",
       "      <td>GEOGRAPHIC</td>\n",
       "      <td>metre</td>\n",
       "      <td>degree</td>\n",
       "      <td>EVENODD</td>\n",
       "      <td>MIXED</td>\n",
       "      <td>GEOGCS[\"WGS 84\",DATUM[\"WGS_1984\",SPHEROID[\"WGS...</td>\n",
       "      <td>+proj=longlat +datum=WGS84 +no_defs</td>\n",
       "      <td>SYS</td>\n",
       "    </tr>\n",
       "    <tr>\n",
       "      <th>3</th>\n",
       "      <td>SYS</td>\n",
       "      <td>1000004326</td>\n",
       "      <td>WGS 84 (planar)</td>\n",
       "      <td>FALSE</td>\n",
       "      <td>long/lat/z/m</td>\n",
       "      <td>1.000000e-09</td>\n",
       "      <td>0.0</td>\n",
       "      <td>6378137.0</td>\n",
       "      <td>None</td>\n",
       "      <td>298.257224</td>\n",
       "      <td>...</td>\n",
       "      <td>EPSG</td>\n",
       "      <td>4326</td>\n",
       "      <td>PROJECTED</td>\n",
       "      <td>planar degree</td>\n",
       "      <td>degree</td>\n",
       "      <td>EVENODD</td>\n",
       "      <td>INTERNAL</td>\n",
       "      <td>GEOGCS[\"WGS 84\",DATUM[\"WGS_1984\",SPHEROID[\"WGS...</td>\n",
       "      <td>+proj=longlat +datum=WGS84 +no_defs</td>\n",
       "      <td>SYS</td>\n",
       "    </tr>\n",
       "    <tr>\n",
       "      <th>4</th>\n",
       "      <td>SYS</td>\n",
       "      <td>2147483646</td>\n",
       "      <td>Unbounded (planar)</td>\n",
       "      <td>FALSE</td>\n",
       "      <td>x/y/z/m</td>\n",
       "      <td>0.000000e+00</td>\n",
       "      <td>0.0</td>\n",
       "      <td>NaN</td>\n",
       "      <td>None</td>\n",
       "      <td>NaN</td>\n",
       "      <td>...</td>\n",
       "      <td>SAP</td>\n",
       "      <td>2147483646</td>\n",
       "      <td>ENGINEERING</td>\n",
       "      <td>meter</td>\n",
       "      <td>None</td>\n",
       "      <td>EVENODD</td>\n",
       "      <td>INTERNAL</td>\n",
       "      <td>None</td>\n",
       "      <td>None</td>\n",
       "      <td>SYS</td>\n",
       "    </tr>\n",
       "  </tbody>\n",
       "</table>\n",
       "<p>5 rows × 26 columns</p>\n",
       "</div>"
      ],
      "text/plain": [
       "  OWNER_NAME      SRS_ID                  SRS_NAME ROUND_EARTH    AXIS_ORDER  \\\n",
       "0        SYS           0                   Default       FALSE       x/y/z/m   \n",
       "1        SYS        3857  WGS 84 / Pseudo-Mercator       FALSE       x/y/z/m   \n",
       "2        SYS        4326                    WGS 84        TRUE  long/lat/z/m   \n",
       "3        SYS  1000004326           WGS 84 (planar)       FALSE  long/lat/z/m   \n",
       "4        SYS  2147483646        Unbounded (planar)       FALSE       x/y/z/m   \n",
       "\n",
       "   SNAP_TO_GRID  TOLERANCE  SEMI_MAJOR_AXIS SEMI_MINOR_AXIS  INV_FLATTENING  \\\n",
       "0  1.000000e-06        0.0              NaN            None             NaN   \n",
       "1  1.000000e-04        0.0              NaN            None             NaN   \n",
       "2  0.000000e+00        0.0        6378137.0            None      298.257224   \n",
       "3  1.000000e-09        0.0        6378137.0            None      298.257224   \n",
       "4  0.000000e+00        0.0              NaN            None             NaN   \n",
       "\n",
       "   ...  ORGANIZATION  ORGANIZATION_COORDSYS_ID     SRS_TYPE  \\\n",
       "0  ...           SAP                         0  ENGINEERING   \n",
       "1  ...          EPSG                      3857    PROJECTED   \n",
       "2  ...          EPSG                      4326   GEOGRAPHIC   \n",
       "3  ...          EPSG                      4326    PROJECTED   \n",
       "4  ...           SAP                2147483646  ENGINEERING   \n",
       "\n",
       "   LINEAR_UNIT_OF_MEASURE ANGULAR_UNIT_OF_MEASURE POLYGON_FORMAT  \\\n",
       "0                   meter                    None        EVENODD   \n",
       "1                   metre                  degree        EVENODD   \n",
       "2                   metre                  degree        EVENODD   \n",
       "3           planar degree                  degree        EVENODD   \n",
       "4                   meter                    None        EVENODD   \n",
       "\n",
       "  STORAGE_FORMAT                                         DEFINITION  \\\n",
       "0       INTERNAL                                               None   \n",
       "1       INTERNAL  PROJCS[\"WGS 84 / Pseudo-Mercator\",GEOGCS[\"WGS ...   \n",
       "2          MIXED  GEOGCS[\"WGS 84\",DATUM[\"WGS_1984\",SPHEROID[\"WGS...   \n",
       "3       INTERNAL  GEOGCS[\"WGS 84\",DATUM[\"WGS_1984\",SPHEROID[\"WGS...   \n",
       "4       INTERNAL                                               None   \n",
       "\n",
       "                                TRANSFORM_DEFINITION CREATOR  \n",
       "0                                               None     SYS  \n",
       "1  +proj=merc +a=6378137 +b=6378137 +lat_ts=0 +lo...     SYS  \n",
       "2                +proj=longlat +datum=WGS84 +no_defs     SYS  \n",
       "3                +proj=longlat +datum=WGS84 +no_defs     SYS  \n",
       "4                                               None     SYS  \n",
       "\n",
       "[5 rows x 26 columns]"
      ]
     },
     "execution_count": 26,
     "metadata": {},
     "output_type": "execute_result"
    }
   ],
   "source": [
    "myconn.table(\"ST_SPATIAL_REFERENCE_SYSTEMS\", schema=\"PUBLIC\").collect()"
   ]
  },
  {
   "cell_type": "markdown",
   "metadata": {},
   "source": [
    "**What are the two closest airport?**\n",
    "\n",
    "Note the use of:\n",
    "- [join()](https://help.sap.com/doc/cd94b08fe2e041c2ba778374572ddba9/2024_2_QRC/en-US/hana_ml.dataframe.html#hana_ml.dataframe.DataFrame.join)"
   ]
  },
  {
   "cell_type": "code",
   "execution_count": 27,
   "metadata": {},
   "outputs": [
    {
     "data": {
      "text/html": [
       "<div>\n",
       "<style scoped>\n",
       "    .dataframe tbody tr th:only-of-type {\n",
       "        vertical-align: middle;\n",
       "    }\n",
       "\n",
       "    .dataframe tbody tr th {\n",
       "        vertical-align: top;\n",
       "    }\n",
       "\n",
       "    .dataframe thead th {\n",
       "        text-align: right;\n",
       "    }\n",
       "</style>\n",
       "<table border=\"1\" class=\"dataframe\">\n",
       "  <thead>\n",
       "    <tr style=\"text-align: right;\">\n",
       "      <th></th>\n",
       "      <th>ID</th>\n",
       "      <th>FROM</th>\n",
       "      <th>TO</th>\n",
       "      <th>DIST</th>\n",
       "    </tr>\n",
       "  </thead>\n",
       "  <tbody>\n",
       "    <tr>\n",
       "      <th>0</th>\n",
       "      <td>49420</td>\n",
       "      <td>1935</td>\n",
       "      <td>1932</td>\n",
       "      <td>2</td>\n",
       "    </tr>\n",
       "  </tbody>\n",
       "</table>\n",
       "</div>"
      ],
      "text/plain": [
       "      ID  FROM    TO  DIST\n",
       "0  49420  1935  1932     2"
      ]
     },
     "execution_count": 27,
     "metadata": {},
     "output_type": "execute_result"
    }
   ],
   "source": [
    "(\n",
    "    hdf_routes\n",
    "    .sort(\"DIST\", desc=False)\n",
    "    .head()\n",
    "    .collect()\n",
    ")"
   ]
  },
  {
   "cell_type": "code",
   "execution_count": 28,
   "metadata": {},
   "outputs": [
    {
     "data": {
      "text/html": [
       "<div>\n",
       "<style scoped>\n",
       "    .dataframe tbody tr th:only-of-type {\n",
       "        vertical-align: middle;\n",
       "    }\n",
       "\n",
       "    .dataframe tbody tr th {\n",
       "        vertical-align: top;\n",
       "    }\n",
       "\n",
       "    .dataframe thead th {\n",
       "        text-align: right;\n",
       "    }\n",
       "</style>\n",
       "<table border=\"1\" class=\"dataframe\">\n",
       "  <thead>\n",
       "    <tr style=\"text-align: right;\">\n",
       "      <th></th>\n",
       "      <th>DIST</th>\n",
       "      <th>FROM_ID</th>\n",
       "      <th>ICAO</th>\n",
       "      <th>DESC</th>\n",
       "      <th>TO_ID</th>\n",
       "      <th>ICAO</th>\n",
       "      <th>DESC</th>\n",
       "    </tr>\n",
       "  </thead>\n",
       "  <tbody>\n",
       "    <tr>\n",
       "      <th>0</th>\n",
       "      <td>2</td>\n",
       "      <td>1935</td>\n",
       "      <td>EGEW</td>\n",
       "      <td>Westray Airport</td>\n",
       "      <td>1932</td>\n",
       "      <td>EGEP</td>\n",
       "      <td>Papa Westray Airport</td>\n",
       "    </tr>\n",
       "  </tbody>\n",
       "</table>\n",
       "</div>"
      ],
      "text/plain": [
       "   DIST  FROM_ID  ICAO             DESC  TO_ID  ICAO                  DESC\n",
       "0     2     1935  EGEW  Westray Airport   1932  EGEP  Papa Westray Airport"
      ]
     },
     "execution_count": 28,
     "metadata": {},
     "output_type": "execute_result"
    }
   ],
   "source": [
    "(\n",
    "    hdf_routes.sort(\"DIST\", desc=False).head()\n",
    "    .alias('L1').join(hdf_ports.select((\"ID\", \"FROM_ID\"), \"ICAO\", \"DESC\").alias('R1'), 'L1.\"FROM\" = R1.\"FROM_ID\"')\n",
    "    .alias('L2').join(hdf_ports.select((\"ID\", \"TO_ID\"), \"ICAO\", \"DESC\").alias('R2'), 'L2.\"TO\" = R2.\"TO_ID\"')\n",
    "    .collect().iloc[:, 3:]\n",
    ")"
   ]
  },
  {
   "cell_type": "markdown",
   "metadata": {},
   "source": [
    "Closer inspection on the map explains such a short distance between the two airports: https://en.mapy.cz/zakladni?l=0&x=-2.9290799&y=59.3518237&z=14"
   ]
  },
  {
   "cell_type": "markdown",
   "metadata": {},
   "source": [
    "## Create SAP HANA graph workspace"
   ]
  },
  {
   "cell_type": "markdown",
   "metadata": {},
   "source": [
    "Use [`hana_ml.graph`](https://help.sap.com/doc/cd94b08fe2e041c2ba778374572ddba9/2024_2_QRC/en-US/hana_ml.graph.html#module-hana_ml.graph) from the Python Machine Learning Client for SAP HANA:\n",
    "* [create_graph_from_dataframes()](https://help.sap.com/doc/cd94b08fe2e041c2ba778374572ddba9/2024_2_QRC/en-US/hana_ml.graph.html#hana_ml.graph.create_graph_from_dataframes) to model a [graph workspace](https://help.sap.com/docs/hana-cloud-database/sap-hana-cloud-sap-hana-database-graph-reference/sap-hana-graph-data-model)\n",
    "* [discover_graph_workspaces()](https://help.sap.com/doc/cd94b08fe2e041c2ba778374572ddba9/2024_2_QRC/en-US/hana_ml.graph.html#hana_ml.graph.discover_graph_workspaces) to check existing [graphs workspace artifacts](https://help.sap.com/docs/hana-cloud-database/sap-hana-cloud-sap-hana-database-graph-reference/graph-metadata-views) in SAP HANA database"
   ]
  },
  {
   "cell_type": "code",
   "execution_count": 29,
   "metadata": {},
   "outputs": [],
   "source": [
    "import hana_ml.graph"
   ]
  },
  {
   "cell_type": "code",
   "execution_count": 30,
   "metadata": {},
   "outputs": [],
   "source": [
    "hgws_airroutes = (\n",
    "    hana_ml.graph.create_graph_from_dataframes(\n",
    "        connection_context=myconn, \n",
    "        workspace_name='AIRROUTES_DFH',\n",
    "        \n",
    "        vertices_df=hdf_ports,\n",
    "        vertex_key_column=\"ID\", \n",
    "        \n",
    "        edges_df=hdf_routes, \n",
    "        edge_key_column=\"ID\",\n",
    "        edge_source_column=\"FROM\", edge_target_column=\"TO\"\n",
    "    )\n",
    ")"
   ]
  },
  {
   "cell_type": "code",
   "execution_count": 31,
   "metadata": {},
   "outputs": [
    {
     "data": {
      "text/html": [
       "<div>\n",
       "<style scoped>\n",
       "    .dataframe tbody tr th:only-of-type {\n",
       "        vertical-align: middle;\n",
       "    }\n",
       "\n",
       "    .dataframe tbody tr th {\n",
       "        vertical-align: top;\n",
       "    }\n",
       "\n",
       "    .dataframe thead th {\n",
       "        text-align: right;\n",
       "    }\n",
       "</style>\n",
       "<table border=\"1\" class=\"dataframe\">\n",
       "  <thead>\n",
       "    <tr style=\"text-align: right;\">\n",
       "      <th></th>\n",
       "      <th>SCHEMA_NAME</th>\n",
       "      <th>WORKSPACE_NAME</th>\n",
       "      <th>IS_VALID</th>\n",
       "      <th>EDGE_TARGET_COLUMN</th>\n",
       "      <th>EDGE_SOURCE_COLUMN_NAME</th>\n",
       "      <th>EDGE_SCHEMA_NAME</th>\n",
       "      <th>EDGE_TABLE_NAME</th>\n",
       "      <th>EDGE_KEY_COLUMN_NAME</th>\n",
       "      <th>VERTEX_SCHEMA_NAME</th>\n",
       "      <th>VERTEX_TABLE_NAME</th>\n",
       "      <th>VERTEX_KEY_COLUMN_NAME</th>\n",
       "    </tr>\n",
       "  </thead>\n",
       "  <tbody>\n",
       "    <tr>\n",
       "      <th>0</th>\n",
       "      <td>DEVCHALLENGER</td>\n",
       "      <td>AIRROUTES_DFH</td>\n",
       "      <td>TRUE</td>\n",
       "      <td>TO</td>\n",
       "      <td>FROM</td>\n",
       "      <td>DEVCHALLENGER</td>\n",
       "      <td>ROUTES_GE_VIEW</td>\n",
       "      <td>ID</td>\n",
       "      <td>DEVCHALLENGER</td>\n",
       "      <td>PORTS_GV_VIEW</td>\n",
       "      <td>ID</td>\n",
       "    </tr>\n",
       "  </tbody>\n",
       "</table>\n",
       "</div>"
      ],
      "text/plain": [
       "     SCHEMA_NAME WORKSPACE_NAME IS_VALID EDGE_TARGET_COLUMN  \\\n",
       "0  DEVCHALLENGER  AIRROUTES_DFH     TRUE                 TO   \n",
       "\n",
       "  EDGE_SOURCE_COLUMN_NAME EDGE_SCHEMA_NAME EDGE_TABLE_NAME  \\\n",
       "0                    FROM    DEVCHALLENGER  ROUTES_GE_VIEW   \n",
       "\n",
       "  EDGE_KEY_COLUMN_NAME VERTEX_SCHEMA_NAME VERTEX_TABLE_NAME  \\\n",
       "0                   ID      DEVCHALLENGER     PORTS_GV_VIEW   \n",
       "\n",
       "  VERTEX_KEY_COLUMN_NAME  \n",
       "0                     ID  "
      ]
     },
     "execution_count": 31,
     "metadata": {},
     "output_type": "execute_result"
    }
   ],
   "source": [
    "hana_ml.graph.discover_graph_workspaces(myconn)"
   ]
  },
  {
   "cell_type": "markdown",
   "metadata": {},
   "source": [
    "### Exploring the graph's..."
   ]
  },
  {
   "cell_type": "markdown",
   "metadata": {},
   "source": [
    "...[vertices](https://help.sap.com/doc/cd94b08fe2e041c2ba778374572ddba9/2024_2_QRC/en-US/hana_ml.graph.html#hana_ml.graph.Graph.vertices) (nodes):"
   ]
  },
  {
   "cell_type": "code",
   "execution_count": 32,
   "metadata": {},
   "outputs": [
    {
     "data": {
      "text/html": [
       "<div>\n",
       "<style scoped>\n",
       "    .dataframe tbody tr th:only-of-type {\n",
       "        vertical-align: middle;\n",
       "    }\n",
       "\n",
       "    .dataframe tbody tr th {\n",
       "        vertical-align: top;\n",
       "    }\n",
       "\n",
       "    .dataframe thead th {\n",
       "        text-align: right;\n",
       "    }\n",
       "</style>\n",
       "<table border=\"1\" class=\"dataframe\">\n",
       "  <thead>\n",
       "    <tr style=\"text-align: right;\">\n",
       "      <th></th>\n",
       "      <th>ID</th>\n",
       "      <th>CODE</th>\n",
       "      <th>ICAO</th>\n",
       "      <th>DESC</th>\n",
       "      <th>REGION</th>\n",
       "      <th>RUNWAYS</th>\n",
       "      <th>LONGEST</th>\n",
       "      <th>ELEV</th>\n",
       "      <th>COUNTRY</th>\n",
       "      <th>CITY</th>\n",
       "      <th>LAT</th>\n",
       "      <th>LON</th>\n",
       "    </tr>\n",
       "  </thead>\n",
       "  <tbody>\n",
       "    <tr>\n",
       "      <th>0</th>\n",
       "      <td>313</td>\n",
       "      <td>WRO</td>\n",
       "      <td>EPWR</td>\n",
       "      <td>Copernicus Wroclaw Airport</td>\n",
       "      <td>PL-DS</td>\n",
       "      <td>1</td>\n",
       "      <td>8202</td>\n",
       "      <td>404</td>\n",
       "      <td>PL</td>\n",
       "      <td>Wroclaw</td>\n",
       "      <td>51.102699</td>\n",
       "      <td>16.885799</td>\n",
       "    </tr>\n",
       "  </tbody>\n",
       "</table>\n",
       "</div>"
      ],
      "text/plain": [
       "    ID CODE  ICAO                        DESC REGION  RUNWAYS  LONGEST  ELEV  \\\n",
       "0  313  WRO  EPWR  Copernicus Wroclaw Airport  PL-DS        1     8202   404   \n",
       "\n",
       "  COUNTRY     CITY        LAT        LON  \n",
       "0      PL  Wroclaw  51.102699  16.885799  "
      ]
     },
     "execution_count": 32,
     "metadata": {},
     "output_type": "execute_result"
    }
   ],
   "source": [
    "hgws_airroutes.vertices(vertex_key=313)"
   ]
  },
  {
   "cell_type": "markdown",
   "metadata": {},
   "source": [
    "...[edges](https://help.sap.com/doc/cd94b08fe2e041c2ba778374572ddba9/2024_2_QRC/en-US/hana_ml.graph.html#hana_ml.graph.Graph.edges) (connections):"
   ]
  },
  {
   "cell_type": "code",
   "execution_count": 33,
   "metadata": {},
   "outputs": [
    {
     "data": {
      "text/html": [
       "<div>\n",
       "<style scoped>\n",
       "    .dataframe tbody tr th:only-of-type {\n",
       "        vertical-align: middle;\n",
       "    }\n",
       "\n",
       "    .dataframe tbody tr th {\n",
       "        vertical-align: top;\n",
       "    }\n",
       "\n",
       "    .dataframe thead th {\n",
       "        text-align: right;\n",
       "    }\n",
       "</style>\n",
       "<table border=\"1\" class=\"dataframe\">\n",
       "  <thead>\n",
       "    <tr style=\"text-align: right;\">\n",
       "      <th></th>\n",
       "      <th>ID</th>\n",
       "      <th>FROM</th>\n",
       "      <th>TO</th>\n",
       "      <th>DIST</th>\n",
       "    </tr>\n",
       "  </thead>\n",
       "  <tbody>\n",
       "    <tr>\n",
       "      <th>0</th>\n",
       "      <td>9766</td>\n",
       "      <td>51</td>\n",
       "      <td>313</td>\n",
       "      <td>651</td>\n",
       "    </tr>\n",
       "    <tr>\n",
       "      <th>1</th>\n",
       "      <td>10066</td>\n",
       "      <td>52</td>\n",
       "      <td>313</td>\n",
       "      <td>373</td>\n",
       "    </tr>\n",
       "    <tr>\n",
       "      <th>2</th>\n",
       "      <td>11296</td>\n",
       "      <td>60</td>\n",
       "      <td>313</td>\n",
       "      <td>987</td>\n",
       "    </tr>\n",
       "    <tr>\n",
       "      <th>3</th>\n",
       "      <td>12678</td>\n",
       "      <td>70</td>\n",
       "      <td>313</td>\n",
       "      <td>525</td>\n",
       "    </tr>\n",
       "    <tr>\n",
       "      <th>4</th>\n",
       "      <td>13416</td>\n",
       "      <td>74</td>\n",
       "      <td>313</td>\n",
       "      <td>1220</td>\n",
       "    </tr>\n",
       "  </tbody>\n",
       "</table>\n",
       "</div>"
      ],
      "text/plain": [
       "      ID  FROM   TO  DIST\n",
       "0   9766    51  313   651\n",
       "1  10066    52  313   373\n",
       "2  11296    60  313   987\n",
       "3  12678    70  313   525\n",
       "4  13416    74  313  1220"
      ]
     },
     "execution_count": 33,
     "metadata": {},
     "output_type": "execute_result"
    }
   ],
   "source": [
    "hgws_airroutes.edges(vertex_key=313, direction='INCOMING').head(5)"
   ]
  }
 ],
 "metadata": {
  "kernelspec": {
   "display_name": ".venv",
   "language": "python",
   "name": "python3"
  },
  "language_info": {
   "codemirror_mode": {
    "name": "ipython",
    "version": 3
   },
   "file_extension": ".py",
   "mimetype": "text/x-python",
   "name": "python",
   "nbconvert_exporter": "python",
   "pygments_lexer": "ipython3",
   "version": "3.11.2"
  }
 },
 "nbformat": 4,
 "nbformat_minor": 2
}
